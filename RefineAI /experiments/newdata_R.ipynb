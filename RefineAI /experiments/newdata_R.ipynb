{
 "cells": [
  {
   "cell_type": "code",
   "execution_count": 1,
   "id": "7a92ba25-33a4-41d2-b545-798d05d7677f",
   "metadata": {},
   "outputs": [
    {
     "name": "stderr",
     "output_type": "stream",
     "text": [
      "── \u001b[1mAttaching core tidyverse packages\u001b[22m ──────────────────────── tidyverse 2.0.0 ──\n",
      "\u001b[32m✔\u001b[39m \u001b[34mdplyr    \u001b[39m 1.1.4     \u001b[32m✔\u001b[39m \u001b[34mreadr    \u001b[39m 2.1.5\n",
      "\u001b[32m✔\u001b[39m \u001b[34mforcats  \u001b[39m 1.0.0     \u001b[32m✔\u001b[39m \u001b[34mstringr  \u001b[39m 1.5.1\n",
      "\u001b[32m✔\u001b[39m \u001b[34mggplot2  \u001b[39m 3.5.1     \u001b[32m✔\u001b[39m \u001b[34mtibble   \u001b[39m 3.2.1\n",
      "\u001b[32m✔\u001b[39m \u001b[34mlubridate\u001b[39m 1.9.3     \u001b[32m✔\u001b[39m \u001b[34mtidyr    \u001b[39m 1.3.1\n",
      "\u001b[32m✔\u001b[39m \u001b[34mpurrr    \u001b[39m 1.0.2     \n",
      "── \u001b[1mConflicts\u001b[22m ────────────────────────────────────────── tidyverse_conflicts() ──\n",
      "\u001b[31m✖\u001b[39m \u001b[34mdplyr\u001b[39m::\u001b[32mfilter()\u001b[39m masks \u001b[34mstats\u001b[39m::filter()\n",
      "\u001b[31m✖\u001b[39m \u001b[34mdplyr\u001b[39m::\u001b[32mlag()\u001b[39m    masks \u001b[34mstats\u001b[39m::lag()\n",
      "\u001b[36mℹ\u001b[39m Use the conflicted package (\u001b[3m\u001b[34m<http://conflicted.r-lib.org/>\u001b[39m\u001b[23m) to force all conflicts to become errors\n"
     ]
    }
   ],
   "source": [
    "library('tidyverse')"
   ]
  },
  {
   "cell_type": "code",
   "execution_count": 2,
   "id": "e42fb4fd-9488-4fc2-90e9-ef974fb7d817",
   "metadata": {},
   "outputs": [],
   "source": [
    "original_dir <- getwd()"
   ]
  },
  {
   "cell_type": "code",
   "execution_count": 3,
   "id": "b77155f2-8fd1-4e42-b407-096ef49f0f94",
   "metadata": {},
   "outputs": [
    {
     "data": {
      "text/html": [
       "<style>\n",
       ".list-inline {list-style: none; margin:0; padding: 0}\n",
       ".list-inline>li {display: inline-block}\n",
       ".list-inline>li:not(:last-child)::after {content: \"\\00b7\"; padding: 0 .5ex}\n",
       "</style>\n",
       "<ol class=list-inline><li>3751</li><li>1777</li></ol>\n"
      ],
      "text/latex": [
       "\\begin{enumerate*}\n",
       "\\item 3751\n",
       "\\item 1777\n",
       "\\end{enumerate*}\n"
      ],
      "text/markdown": [
       "1. 3751\n",
       "2. 1777\n",
       "\n",
       "\n"
      ],
      "text/plain": [
       "[1] 3751 1777"
      ]
     },
     "metadata": {},
     "output_type": "display_data"
    },
    {
     "data": {
      "text/html": [
       "<table class=\"dataframe\">\n",
       "<caption>A data.frame: 2 × 2</caption>\n",
       "<thead>\n",
       "\t<tr><th scope=col>target</th><th scope=col>n</th></tr>\n",
       "\t<tr><th scope=col>&lt;int&gt;</th><th scope=col>&lt;int&gt;</th></tr>\n",
       "</thead>\n",
       "<tbody>\n",
       "\t<tr><td>0</td><td>1717</td></tr>\n",
       "\t<tr><td>1</td><td>2034</td></tr>\n",
       "</tbody>\n",
       "</table>\n"
      ],
      "text/latex": [
       "A data.frame: 2 × 2\n",
       "\\begin{tabular}{ll}\n",
       " target & n\\\\\n",
       " <int> & <int>\\\\\n",
       "\\hline\n",
       "\t 0 & 1717\\\\\n",
       "\t 1 & 2034\\\\\n",
       "\\end{tabular}\n"
      ],
      "text/markdown": [
       "\n",
       "A data.frame: 2 × 2\n",
       "\n",
       "| target &lt;int&gt; | n &lt;int&gt; |\n",
       "|---|---|\n",
       "| 0 | 1717 |\n",
       "| 1 | 2034 |\n",
       "\n"
      ],
      "text/plain": [
       "  target n   \n",
       "1 0      1717\n",
       "2 1      2034"
      ]
     },
     "metadata": {},
     "output_type": "display_data"
    },
    {
     "data": {
      "text/html": [
       "<table class=\"dataframe\">\n",
       "<caption>A data.frame: 6 × 1777</caption>\n",
       "<thead>\n",
       "\t<tr><th></th><th scope=col>X0</th><th scope=col>X1</th><th scope=col>X2</th><th scope=col>X3</th><th scope=col>X4</th><th scope=col>X5</th><th scope=col>X6</th><th scope=col>X7</th><th scope=col>X8</th><th scope=col>X9</th><th scope=col>⋯</th><th scope=col>X1767</th><th scope=col>X1768</th><th scope=col>X1769</th><th scope=col>X1770</th><th scope=col>X1771</th><th scope=col>X1772</th><th scope=col>X1773</th><th scope=col>X1774</th><th scope=col>X1775</th><th scope=col>target</th></tr>\n",
       "\t<tr><th></th><th scope=col>&lt;dbl&gt;</th><th scope=col>&lt;dbl&gt;</th><th scope=col>&lt;dbl&gt;</th><th scope=col>&lt;dbl&gt;</th><th scope=col>&lt;dbl&gt;</th><th scope=col>&lt;dbl&gt;</th><th scope=col>&lt;dbl&gt;</th><th scope=col>&lt;dbl&gt;</th><th scope=col>&lt;dbl&gt;</th><th scope=col>&lt;dbl&gt;</th><th scope=col>⋯</th><th scope=col>&lt;dbl&gt;</th><th scope=col>&lt;dbl&gt;</th><th scope=col>&lt;dbl&gt;</th><th scope=col>&lt;dbl&gt;</th><th scope=col>&lt;dbl&gt;</th><th scope=col>&lt;dbl&gt;</th><th scope=col>&lt;dbl&gt;</th><th scope=col>&lt;dbl&gt;</th><th scope=col>&lt;dbl&gt;</th><th scope=col>&lt;int&gt;</th></tr>\n",
       "</thead>\n",
       "<tbody>\n",
       "\t<tr><th scope=row>1</th><td>0.0000000</td><td>0.4970090</td><td>0.10</td><td>0.00</td><td>0.1329560</td><td>0.6780307</td><td>0.2731660</td><td>0.5854449</td><td>0.7436632</td><td>0.2431436</td><td>⋯</td><td>0</td><td>0</td><td>0</td><td>0</td><td>0</td><td>0</td><td>0</td><td>0</td><td>0</td><td>1</td></tr>\n",
       "\t<tr><th scope=row>2</th><td>0.3666667</td><td>0.6062915</td><td>0.05</td><td>0.00</td><td>0.1112090</td><td>0.8034547</td><td>0.1061051</td><td>0.4117539</td><td>0.8365823</td><td>0.1064800</td><td>⋯</td><td>1</td><td>1</td><td>1</td><td>0</td><td>1</td><td>0</td><td>0</td><td>1</td><td>0</td><td>1</td></tr>\n",
       "\t<tr><th scope=row>3</th><td>0.0333000</td><td>0.4801243</td><td>0.00</td><td>0.00</td><td>0.2097914</td><td>0.6103503</td><td>0.3564527</td><td>0.5177195</td><td>0.6790514</td><td>0.3523077</td><td>⋯</td><td>0</td><td>0</td><td>0</td><td>0</td><td>0</td><td>0</td><td>0</td><td>0</td><td>0</td><td>1</td></tr>\n",
       "\t<tr><th scope=row>4</th><td>0.0000000</td><td>0.5388248</td><td>0.00</td><td>0.50</td><td>0.1963443</td><td>0.7242295</td><td>0.2356059</td><td>0.2887638</td><td>0.8051096</td><td>0.2089886</td><td>⋯</td><td>0</td><td>0</td><td>0</td><td>0</td><td>0</td><td>0</td><td>0</td><td>0</td><td>0</td><td>1</td></tr>\n",
       "\t<tr><th scope=row>5</th><td>0.1000000</td><td>0.5177943</td><td>0.00</td><td>0.00</td><td>0.4947336</td><td>0.7814218</td><td>0.1543612</td><td>0.3038091</td><td>0.8126462</td><td>0.1251773</td><td>⋯</td><td>0</td><td>0</td><td>0</td><td>0</td><td>0</td><td>0</td><td>0</td><td>0</td><td>0</td><td>0</td></tr>\n",
       "\t<tr><th scope=row>6</th><td>0.1333333</td><td>0.7710346</td><td>0.20</td><td>0.25</td><td>0.1221530</td><td>0.6773975</td><td>0.2672239</td><td>0.6111124</td><td>0.7014214</td><td>0.3309166</td><td>⋯</td><td>0</td><td>0</td><td>0</td><td>0</td><td>0</td><td>0</td><td>0</td><td>0</td><td>0</td><td>0</td></tr>\n",
       "</tbody>\n",
       "</table>\n"
      ],
      "text/latex": [
       "A data.frame: 6 × 1777\n",
       "\\begin{tabular}{r|lllllllllllllllllllll}\n",
       "  & X0 & X1 & X2 & X3 & X4 & X5 & X6 & X7 & X8 & X9 & ⋯ & X1767 & X1768 & X1769 & X1770 & X1771 & X1772 & X1773 & X1774 & X1775 & target\\\\\n",
       "  & <dbl> & <dbl> & <dbl> & <dbl> & <dbl> & <dbl> & <dbl> & <dbl> & <dbl> & <dbl> & ⋯ & <dbl> & <dbl> & <dbl> & <dbl> & <dbl> & <dbl> & <dbl> & <dbl> & <dbl> & <int>\\\\\n",
       "\\hline\n",
       "\t1 & 0.0000000 & 0.4970090 & 0.10 & 0.00 & 0.1329560 & 0.6780307 & 0.2731660 & 0.5854449 & 0.7436632 & 0.2431436 & ⋯ & 0 & 0 & 0 & 0 & 0 & 0 & 0 & 0 & 0 & 1\\\\\n",
       "\t2 & 0.3666667 & 0.6062915 & 0.05 & 0.00 & 0.1112090 & 0.8034547 & 0.1061051 & 0.4117539 & 0.8365823 & 0.1064800 & ⋯ & 1 & 1 & 1 & 0 & 1 & 0 & 0 & 1 & 0 & 1\\\\\n",
       "\t3 & 0.0333000 & 0.4801243 & 0.00 & 0.00 & 0.2097914 & 0.6103503 & 0.3564527 & 0.5177195 & 0.6790514 & 0.3523077 & ⋯ & 0 & 0 & 0 & 0 & 0 & 0 & 0 & 0 & 0 & 1\\\\\n",
       "\t4 & 0.0000000 & 0.5388248 & 0.00 & 0.50 & 0.1963443 & 0.7242295 & 0.2356059 & 0.2887638 & 0.8051096 & 0.2089886 & ⋯ & 0 & 0 & 0 & 0 & 0 & 0 & 0 & 0 & 0 & 1\\\\\n",
       "\t5 & 0.1000000 & 0.5177943 & 0.00 & 0.00 & 0.4947336 & 0.7814218 & 0.1543612 & 0.3038091 & 0.8126462 & 0.1251773 & ⋯ & 0 & 0 & 0 & 0 & 0 & 0 & 0 & 0 & 0 & 0\\\\\n",
       "\t6 & 0.1333333 & 0.7710346 & 0.20 & 0.25 & 0.1221530 & 0.6773975 & 0.2672239 & 0.6111124 & 0.7014214 & 0.3309166 & ⋯ & 0 & 0 & 0 & 0 & 0 & 0 & 0 & 0 & 0 & 0\\\\\n",
       "\\end{tabular}\n"
      ],
      "text/markdown": [
       "\n",
       "A data.frame: 6 × 1777\n",
       "\n",
       "| <!--/--> | X0 &lt;dbl&gt; | X1 &lt;dbl&gt; | X2 &lt;dbl&gt; | X3 &lt;dbl&gt; | X4 &lt;dbl&gt; | X5 &lt;dbl&gt; | X6 &lt;dbl&gt; | X7 &lt;dbl&gt; | X8 &lt;dbl&gt; | X9 &lt;dbl&gt; | ⋯ ⋯ | X1767 &lt;dbl&gt; | X1768 &lt;dbl&gt; | X1769 &lt;dbl&gt; | X1770 &lt;dbl&gt; | X1771 &lt;dbl&gt; | X1772 &lt;dbl&gt; | X1773 &lt;dbl&gt; | X1774 &lt;dbl&gt; | X1775 &lt;dbl&gt; | target &lt;int&gt; |\n",
       "|---|---|---|---|---|---|---|---|---|---|---|---|---|---|---|---|---|---|---|---|---|---|\n",
       "| 1 | 0.0000000 | 0.4970090 | 0.10 | 0.00 | 0.1329560 | 0.6780307 | 0.2731660 | 0.5854449 | 0.7436632 | 0.2431436 | ⋯ | 0 | 0 | 0 | 0 | 0 | 0 | 0 | 0 | 0 | 1 |\n",
       "| 2 | 0.3666667 | 0.6062915 | 0.05 | 0.00 | 0.1112090 | 0.8034547 | 0.1061051 | 0.4117539 | 0.8365823 | 0.1064800 | ⋯ | 1 | 1 | 1 | 0 | 1 | 0 | 0 | 1 | 0 | 1 |\n",
       "| 3 | 0.0333000 | 0.4801243 | 0.00 | 0.00 | 0.2097914 | 0.6103503 | 0.3564527 | 0.5177195 | 0.6790514 | 0.3523077 | ⋯ | 0 | 0 | 0 | 0 | 0 | 0 | 0 | 0 | 0 | 1 |\n",
       "| 4 | 0.0000000 | 0.5388248 | 0.00 | 0.50 | 0.1963443 | 0.7242295 | 0.2356059 | 0.2887638 | 0.8051096 | 0.2089886 | ⋯ | 0 | 0 | 0 | 0 | 0 | 0 | 0 | 0 | 0 | 1 |\n",
       "| 5 | 0.1000000 | 0.5177943 | 0.00 | 0.00 | 0.4947336 | 0.7814218 | 0.1543612 | 0.3038091 | 0.8126462 | 0.1251773 | ⋯ | 0 | 0 | 0 | 0 | 0 | 0 | 0 | 0 | 0 | 0 |\n",
       "| 6 | 0.1333333 | 0.7710346 | 0.20 | 0.25 | 0.1221530 | 0.6773975 | 0.2672239 | 0.6111124 | 0.7014214 | 0.3309166 | ⋯ | 0 | 0 | 0 | 0 | 0 | 0 | 0 | 0 | 0 | 0 |\n",
       "\n"
      ],
      "text/plain": [
       "  X0        X1        X2   X3   X4        X5        X6        X7       \n",
       "1 0.0000000 0.4970090 0.10 0.00 0.1329560 0.6780307 0.2731660 0.5854449\n",
       "2 0.3666667 0.6062915 0.05 0.00 0.1112090 0.8034547 0.1061051 0.4117539\n",
       "3 0.0333000 0.4801243 0.00 0.00 0.2097914 0.6103503 0.3564527 0.5177195\n",
       "4 0.0000000 0.5388248 0.00 0.50 0.1963443 0.7242295 0.2356059 0.2887638\n",
       "5 0.1000000 0.5177943 0.00 0.00 0.4947336 0.7814218 0.1543612 0.3038091\n",
       "6 0.1333333 0.7710346 0.20 0.25 0.1221530 0.6773975 0.2672239 0.6111124\n",
       "  X8        X9        ⋯ X1767 X1768 X1769 X1770 X1771 X1772 X1773 X1774 X1775\n",
       "1 0.7436632 0.2431436 ⋯ 0     0     0     0     0     0     0     0     0    \n",
       "2 0.8365823 0.1064800 ⋯ 1     1     1     0     1     0     0     1     0    \n",
       "3 0.6790514 0.3523077 ⋯ 0     0     0     0     0     0     0     0     0    \n",
       "4 0.8051096 0.2089886 ⋯ 0     0     0     0     0     0     0     0     0    \n",
       "5 0.8126462 0.1251773 ⋯ 0     0     0     0     0     0     0     0     0    \n",
       "6 0.7014214 0.3309166 ⋯ 0     0     0     0     0     0     0     0     0    \n",
       "  target\n",
       "1 1     \n",
       "2 1     \n",
       "3 1     \n",
       "4 1     \n",
       "5 0     \n",
       "6 0     "
      ]
     },
     "metadata": {},
     "output_type": "display_data"
    }
   ],
   "source": [
    "data <- read.csv('openml__Bioresponse__9910.csv')\n",
    "data %>% dim \n",
    "data %>% count(target)\n",
    "data %>% head\n"
   ]
  },
  {
   "cell_type": "code",
   "execution_count": 4,
   "id": "0ee23575-298b-4523-ba52-3a000ef2cc2f",
   "metadata": {},
   "outputs": [],
   "source": [
    "set.seed(123)  # for reproducibility\n",
    "\n",
    "data_0 <- data %>% filter(target == 0)\n",
    "data_1 <- data %>% filter(target == 1)\n",
    "\n",
    "n <- nrow(data_0)\n",
    "train_size_0 <- floor(0.7 * n)\n",
    "\n",
    "# Shuffle the rows first\n",
    "data_0 <- data_0 %>% slice_sample(prop = 1)\n",
    "\n",
    "# Split into training and testing\n",
    "train_df_0 <- data_0 %>% slice(1:train_size_0)\n",
    "test_df_0  <- data_0 %>% slice((train_size_0 + 1):n)"
   ]
  },
  {
   "cell_type": "code",
   "execution_count": 5,
   "id": "f03d58c7-093e-49fd-ac16-dead45cf17a1",
   "metadata": {},
   "outputs": [
    {
     "data": {
      "text/html": [
       "<style>\n",
       ".list-inline {list-style: none; margin:0; padding: 0}\n",
       ".list-inline>li {display: inline-block}\n",
       ".list-inline>li:not(:last-child)::after {content: \"\\00b7\"; padding: 0 .5ex}\n",
       "</style>\n",
       "<ol class=list-inline><li>2624</li><li>1777</li></ol>\n"
      ],
      "text/latex": [
       "\\begin{enumerate*}\n",
       "\\item 2624\n",
       "\\item 1777\n",
       "\\end{enumerate*}\n"
      ],
      "text/markdown": [
       "1. 2624\n",
       "2. 1777\n",
       "\n",
       "\n"
      ],
      "text/plain": [
       "[1] 2624 1777"
      ]
     },
     "metadata": {},
     "output_type": "display_data"
    },
    {
     "data": {
      "text/html": [
       "<table class=\"dataframe\">\n",
       "<caption>A data.frame: 2 × 2</caption>\n",
       "<thead>\n",
       "\t<tr><th scope=col>target</th><th scope=col>n</th></tr>\n",
       "\t<tr><th scope=col>&lt;int&gt;</th><th scope=col>&lt;int&gt;</th></tr>\n",
       "</thead>\n",
       "<tbody>\n",
       "\t<tr><td>0</td><td>1201</td></tr>\n",
       "\t<tr><td>1</td><td>1423</td></tr>\n",
       "</tbody>\n",
       "</table>\n"
      ],
      "text/latex": [
       "A data.frame: 2 × 2\n",
       "\\begin{tabular}{ll}\n",
       " target & n\\\\\n",
       " <int> & <int>\\\\\n",
       "\\hline\n",
       "\t 0 & 1201\\\\\n",
       "\t 1 & 1423\\\\\n",
       "\\end{tabular}\n"
      ],
      "text/markdown": [
       "\n",
       "A data.frame: 2 × 2\n",
       "\n",
       "| target &lt;int&gt; | n &lt;int&gt; |\n",
       "|---|---|\n",
       "| 0 | 1201 |\n",
       "| 1 | 1423 |\n",
       "\n"
      ],
      "text/plain": [
       "  target n   \n",
       "1 0      1201\n",
       "2 1      1423"
      ]
     },
     "metadata": {},
     "output_type": "display_data"
    }
   ],
   "source": [
    "n <- nrow(data_1)\n",
    "train_size_1 <- floor(0.7 * n)\n",
    "\n",
    "# Shuffle the rows first\n",
    "data_1 <- data_1 %>% slice_sample(prop = 1)\n",
    "\n",
    "# Split into training and testing\n",
    "train_df_1 <- data_1 %>% slice(1:train_size_1)\n",
    "test_df_1  <- data_1 %>% slice((train_size_1 + 1):n)\n",
    "\n",
    "train <- train_df_1 %>% rbind(train_df_0)\n",
    "test <- test_df_1 %>% rbind(test_df_0)\n",
    "\n",
    "train %>% dim\n",
    "train %>% count(target)"
   ]
  },
  {
   "cell_type": "code",
   "execution_count": 6,
   "id": "72d1aa90-4f5e-442a-9142-185a1aaf4c51",
   "metadata": {},
   "outputs": [
    {
     "data": {
      "text/html": [
       "<style>\n",
       ".list-inline {list-style: none; margin:0; padding: 0}\n",
       ".list-inline>li {display: inline-block}\n",
       ".list-inline>li:not(:last-child)::after {content: \"\\00b7\"; padding: 0 .5ex}\n",
       "</style>\n",
       "<ol class=list-inline><li>1127</li><li>1777</li></ol>\n"
      ],
      "text/latex": [
       "\\begin{enumerate*}\n",
       "\\item 1127\n",
       "\\item 1777\n",
       "\\end{enumerate*}\n"
      ],
      "text/markdown": [
       "1. 1127\n",
       "2. 1777\n",
       "\n",
       "\n"
      ],
      "text/plain": [
       "[1] 1127 1777"
      ]
     },
     "metadata": {},
     "output_type": "display_data"
    },
    {
     "data": {
      "text/html": [
       "<table class=\"dataframe\">\n",
       "<caption>A data.frame: 2 × 2</caption>\n",
       "<thead>\n",
       "\t<tr><th scope=col>target</th><th scope=col>n</th></tr>\n",
       "\t<tr><th scope=col>&lt;int&gt;</th><th scope=col>&lt;int&gt;</th></tr>\n",
       "</thead>\n",
       "<tbody>\n",
       "\t<tr><td>0</td><td>516</td></tr>\n",
       "\t<tr><td>1</td><td>611</td></tr>\n",
       "</tbody>\n",
       "</table>\n"
      ],
      "text/latex": [
       "A data.frame: 2 × 2\n",
       "\\begin{tabular}{ll}\n",
       " target & n\\\\\n",
       " <int> & <int>\\\\\n",
       "\\hline\n",
       "\t 0 & 516\\\\\n",
       "\t 1 & 611\\\\\n",
       "\\end{tabular}\n"
      ],
      "text/markdown": [
       "\n",
       "A data.frame: 2 × 2\n",
       "\n",
       "| target &lt;int&gt; | n &lt;int&gt; |\n",
       "|---|---|\n",
       "| 0 | 516 |\n",
       "| 1 | 611 |\n",
       "\n"
      ],
      "text/plain": [
       "  target n  \n",
       "1 0      516\n",
       "2 1      611"
      ]
     },
     "metadata": {},
     "output_type": "display_data"
    }
   ],
   "source": [
    "test %>% dim\n",
    "test %>% count(target)"
   ]
  },
  {
   "cell_type": "code",
   "execution_count": 30,
   "id": "b79a0c8e-736e-4377-bcc2-470dd4435b0b",
   "metadata": {},
   "outputs": [
    {
     "data": {
      "text/html": [
       "0"
      ],
      "text/latex": [
       "0"
      ],
      "text/markdown": [
       "0"
      ],
      "text/plain": [
       "[1] 0"
      ]
     },
     "metadata": {},
     "output_type": "display_data"
    }
   ],
   "source": [
    "sum(is.na(test))"
   ]
  },
  {
   "cell_type": "code",
   "execution_count": 9,
   "id": "0d54ce9f-f671-4db3-9f8e-44b4305a4514",
   "metadata": {},
   "outputs": [
    {
     "data": {
      "text/html": [
       "0.542147293700089"
      ],
      "text/latex": [
       "0.542147293700089"
      ],
      "text/markdown": [
       "0.542147293700089"
      ],
      "text/plain": [
       "[1] 0.5421473"
      ]
     },
     "metadata": {},
     "output_type": "display_data"
    }
   ],
   "source": [
    "611/1127"
   ]
  },
  {
   "cell_type": "code",
   "execution_count": 9,
   "id": "f04edb09-7c73-47e7-bc15-701bbad16a3f",
   "metadata": {},
   "outputs": [
    {
     "name": "stderr",
     "output_type": "stream",
     "text": [
      "Warning message in dir.create(\"bioresponse\"):\n",
      "“'bioresponse' already exists”\n"
     ]
    }
   ],
   "source": [
    "dir.create(\"bioresponse\")\n",
    "setwd(\"bioresponse\")\n",
    "\n",
    "train %>% write_csv('bioresponse_train.csv') \n",
    "test %>% write_csv('bioresponse_test.csv') "
   ]
  },
  {
   "cell_type": "code",
   "execution_count": 11,
   "id": "ad748c67-daa0-40a9-9ba7-4f02345b748a",
   "metadata": {},
   "outputs": [
    {
     "data": {
      "text/html": [
       "<style>\n",
       ".list-inline {list-style: none; margin:0; padding: 0}\n",
       ".list-inline>li {display: inline-block}\n",
       ".list-inline>li:not(:last-child)::after {content: \"\\00b7\"; padding: 0 .5ex}\n",
       "</style>\n",
       "<ol class=list-inline><li>148</li><li>19</li></ol>\n"
      ],
      "text/latex": [
       "\\begin{enumerate*}\n",
       "\\item 148\n",
       "\\item 19\n",
       "\\end{enumerate*}\n"
      ],
      "text/markdown": [
       "1. 148\n",
       "2. 19\n",
       "\n",
       "\n"
      ],
      "text/plain": [
       "[1] 148  19"
      ]
     },
     "metadata": {},
     "output_type": "display_data"
    },
    {
     "data": {
      "text/html": [
       "<table class=\"dataframe\">\n",
       "<caption>A data.frame: 6 × 19</caption>\n",
       "<thead>\n",
       "\t<tr><th></th><th scope=col>X0</th><th scope=col>X1</th><th scope=col>X2</th><th scope=col>X3</th><th scope=col>X4</th><th scope=col>X5</th><th scope=col>X6</th><th scope=col>X7</th><th scope=col>X8</th><th scope=col>X9</th><th scope=col>X10</th><th scope=col>X11</th><th scope=col>X12</th><th scope=col>X13</th><th scope=col>X14</th><th scope=col>X15</th><th scope=col>X16</th><th scope=col>X17</th><th scope=col>target</th></tr>\n",
       "\t<tr><th></th><th scope=col>&lt;int&gt;</th><th scope=col>&lt;int&gt;</th><th scope=col>&lt;int&gt;</th><th scope=col>&lt;int&gt;</th><th scope=col>&lt;int&gt;</th><th scope=col>&lt;int&gt;</th><th scope=col>&lt;int&gt;</th><th scope=col>&lt;int&gt;</th><th scope=col>&lt;int&gt;</th><th scope=col>&lt;int&gt;</th><th scope=col>&lt;int&gt;</th><th scope=col>&lt;int&gt;</th><th scope=col>&lt;int&gt;</th><th scope=col>&lt;int&gt;</th><th scope=col>&lt;int&gt;</th><th scope=col>&lt;int&gt;</th><th scope=col>&lt;int&gt;</th><th scope=col>&lt;int&gt;</th><th scope=col>&lt;int&gt;</th></tr>\n",
       "</thead>\n",
       "<tbody>\n",
       "\t<tr><th scope=row>1</th><td>0</td><td>1</td><td>0</td><td>0</td><td>0</td><td>0</td><td>0</td><td>1</td><td>1</td><td>4</td><td>2</td><td>0</td><td>2</td><td>7</td><td>2</td><td>1</td><td>1</td><td>5</td><td>1</td></tr>\n",
       "\t<tr><th scope=row>2</th><td>2</td><td>1</td><td>0</td><td>0</td><td>1</td><td>1</td><td>0</td><td>1</td><td>1</td><td>3</td><td>2</td><td>0</td><td>2</td><td>1</td><td>2</td><td>1</td><td>1</td><td>3</td><td>1</td></tr>\n",
       "\t<tr><th scope=row>3</th><td>1</td><td>0</td><td>0</td><td>0</td><td>1</td><td>1</td><td>1</td><td>0</td><td>3</td><td>1</td><td>0</td><td>2</td><td>3</td><td>1</td><td>2</td><td>0</td><td>0</td><td>7</td><td>0</td></tr>\n",
       "\t<tr><th scope=row>4</th><td>0</td><td>0</td><td>0</td><td>0</td><td>0</td><td>1</td><td>0</td><td>1</td><td>1</td><td>2</td><td>1</td><td>1</td><td>1</td><td>2</td><td>2</td><td>0</td><td>1</td><td>1</td><td>1</td></tr>\n",
       "\t<tr><th scope=row>5</th><td>0</td><td>0</td><td>0</td><td>0</td><td>0</td><td>0</td><td>0</td><td>0</td><td>1</td><td>2</td><td>2</td><td>1</td><td>1</td><td>3</td><td>2</td><td>0</td><td>0</td><td>1</td><td>2</td></tr>\n",
       "\t<tr><th scope=row>6</th><td>0</td><td>0</td><td>0</td><td>0</td><td>0</td><td>0</td><td>0</td><td>1</td><td>1</td><td>2</td><td>1</td><td>0</td><td>2</td><td>3</td><td>2</td><td>1</td><td>1</td><td>3</td><td>1</td></tr>\n",
       "</tbody>\n",
       "</table>\n"
      ],
      "text/latex": [
       "A data.frame: 6 × 19\n",
       "\\begin{tabular}{r|lllllllllllllllllll}\n",
       "  & X0 & X1 & X2 & X3 & X4 & X5 & X6 & X7 & X8 & X9 & X10 & X11 & X12 & X13 & X14 & X15 & X16 & X17 & target\\\\\n",
       "  & <int> & <int> & <int> & <int> & <int> & <int> & <int> & <int> & <int> & <int> & <int> & <int> & <int> & <int> & <int> & <int> & <int> & <int> & <int>\\\\\n",
       "\\hline\n",
       "\t1 & 0 & 1 & 0 & 0 & 0 & 0 & 0 & 1 & 1 & 4 & 2 & 0 & 2 & 7 & 2 & 1 & 1 & 5 & 1\\\\\n",
       "\t2 & 2 & 1 & 0 & 0 & 1 & 1 & 0 & 1 & 1 & 3 & 2 & 0 & 2 & 1 & 2 & 1 & 1 & 3 & 1\\\\\n",
       "\t3 & 1 & 0 & 0 & 0 & 1 & 1 & 1 & 0 & 3 & 1 & 0 & 2 & 3 & 1 & 2 & 0 & 0 & 7 & 0\\\\\n",
       "\t4 & 0 & 0 & 0 & 0 & 0 & 1 & 0 & 1 & 1 & 2 & 1 & 1 & 1 & 2 & 2 & 0 & 1 & 1 & 1\\\\\n",
       "\t5 & 0 & 0 & 0 & 0 & 0 & 0 & 0 & 0 & 1 & 2 & 2 & 1 & 1 & 3 & 2 & 0 & 0 & 1 & 2\\\\\n",
       "\t6 & 0 & 0 & 0 & 0 & 0 & 0 & 0 & 1 & 1 & 2 & 1 & 0 & 2 & 3 & 2 & 1 & 1 & 3 & 1\\\\\n",
       "\\end{tabular}\n"
      ],
      "text/markdown": [
       "\n",
       "A data.frame: 6 × 19\n",
       "\n",
       "| <!--/--> | X0 &lt;int&gt; | X1 &lt;int&gt; | X2 &lt;int&gt; | X3 &lt;int&gt; | X4 &lt;int&gt; | X5 &lt;int&gt; | X6 &lt;int&gt; | X7 &lt;int&gt; | X8 &lt;int&gt; | X9 &lt;int&gt; | X10 &lt;int&gt; | X11 &lt;int&gt; | X12 &lt;int&gt; | X13 &lt;int&gt; | X14 &lt;int&gt; | X15 &lt;int&gt; | X16 &lt;int&gt; | X17 &lt;int&gt; | target &lt;int&gt; |\n",
       "|---|---|---|---|---|---|---|---|---|---|---|---|---|---|---|---|---|---|---|---|\n",
       "| 1 | 0 | 1 | 0 | 0 | 0 | 0 | 0 | 1 | 1 | 4 | 2 | 0 | 2 | 7 | 2 | 1 | 1 | 5 | 1 |\n",
       "| 2 | 2 | 1 | 0 | 0 | 1 | 1 | 0 | 1 | 1 | 3 | 2 | 0 | 2 | 1 | 2 | 1 | 1 | 3 | 1 |\n",
       "| 3 | 1 | 0 | 0 | 0 | 1 | 1 | 1 | 0 | 3 | 1 | 0 | 2 | 3 | 1 | 2 | 0 | 0 | 7 | 0 |\n",
       "| 4 | 0 | 0 | 0 | 0 | 0 | 1 | 0 | 1 | 1 | 2 | 1 | 1 | 1 | 2 | 2 | 0 | 1 | 1 | 1 |\n",
       "| 5 | 0 | 0 | 0 | 0 | 0 | 0 | 0 | 0 | 1 | 2 | 2 | 1 | 1 | 3 | 2 | 0 | 0 | 1 | 2 |\n",
       "| 6 | 0 | 0 | 0 | 0 | 0 | 0 | 0 | 1 | 1 | 2 | 1 | 0 | 2 | 3 | 2 | 1 | 1 | 3 | 1 |\n",
       "\n"
      ],
      "text/plain": [
       "  X0 X1 X2 X3 X4 X5 X6 X7 X8 X9 X10 X11 X12 X13 X14 X15 X16 X17 target\n",
       "1 0  1  0  0  0  0  0  1  1  4  2   0   2   7   2   1   1   5   1     \n",
       "2 2  1  0  0  1  1  0  1  1  3  2   0   2   1   2   1   1   3   1     \n",
       "3 1  0  0  0  1  1  1  0  3  1  0   2   3   1   2   0   0   7   0     \n",
       "4 0  0  0  0  0  1  0  1  1  2  1   1   1   2   2   0   1   1   1     \n",
       "5 0  0  0  0  0  0  0  0  1  2  2   1   1   3   2   0   0   1   2     \n",
       "6 0  0  0  0  0  0  0  1  1  2  1   0   2   3   2   1   1   3   1     "
      ]
     },
     "metadata": {},
     "output_type": "display_data"
    }
   ],
   "source": [
    "setwd(original_dir)\n",
    "\n",
    "data <- read.csv('openml__lymph__10.csv')\n",
    "data %>% dim \n",
    "data %>% head"
   ]
  },
  {
   "cell_type": "code",
   "execution_count": 12,
   "id": "aba81f75-5b83-49fe-9746-81e176fd0887",
   "metadata": {},
   "outputs": [
    {
     "data": {
      "text/html": [
       "<table class=\"dataframe\">\n",
       "<caption>A data.frame: 6 × 19</caption>\n",
       "<thead>\n",
       "\t<tr><th></th><th scope=col>X0</th><th scope=col>X1</th><th scope=col>X2</th><th scope=col>X3</th><th scope=col>X4</th><th scope=col>X5</th><th scope=col>X6</th><th scope=col>X7</th><th scope=col>X8</th><th scope=col>X9</th><th scope=col>X10</th><th scope=col>X11</th><th scope=col>X12</th><th scope=col>X13</th><th scope=col>X14</th><th scope=col>X15</th><th scope=col>X16</th><th scope=col>X17</th><th scope=col>target</th></tr>\n",
       "\t<tr><th></th><th scope=col>&lt;int&gt;</th><th scope=col>&lt;int&gt;</th><th scope=col>&lt;int&gt;</th><th scope=col>&lt;int&gt;</th><th scope=col>&lt;int&gt;</th><th scope=col>&lt;int&gt;</th><th scope=col>&lt;int&gt;</th><th scope=col>&lt;int&gt;</th><th scope=col>&lt;int&gt;</th><th scope=col>&lt;int&gt;</th><th scope=col>&lt;int&gt;</th><th scope=col>&lt;int&gt;</th><th scope=col>&lt;int&gt;</th><th scope=col>&lt;int&gt;</th><th scope=col>&lt;int&gt;</th><th scope=col>&lt;int&gt;</th><th scope=col>&lt;int&gt;</th><th scope=col>&lt;int&gt;</th><th scope=col>&lt;dbl&gt;</th></tr>\n",
       "</thead>\n",
       "<tbody>\n",
       "\t<tr><th scope=row>1</th><td>0</td><td>1</td><td>0</td><td>0</td><td>0</td><td>0</td><td>0</td><td>1</td><td>1</td><td>4</td><td>2</td><td>0</td><td>2</td><td>7</td><td>2</td><td>1</td><td>1</td><td>5</td><td>0</td></tr>\n",
       "\t<tr><th scope=row>2</th><td>2</td><td>1</td><td>0</td><td>0</td><td>1</td><td>1</td><td>0</td><td>1</td><td>1</td><td>3</td><td>2</td><td>0</td><td>2</td><td>1</td><td>2</td><td>1</td><td>1</td><td>3</td><td>0</td></tr>\n",
       "\t<tr><th scope=row>3</th><td>1</td><td>0</td><td>0</td><td>0</td><td>1</td><td>1</td><td>1</td><td>0</td><td>3</td><td>1</td><td>0</td><td>2</td><td>3</td><td>1</td><td>2</td><td>0</td><td>0</td><td>7</td><td>1</td></tr>\n",
       "\t<tr><th scope=row>4</th><td>0</td><td>0</td><td>0</td><td>0</td><td>0</td><td>1</td><td>0</td><td>1</td><td>1</td><td>2</td><td>1</td><td>1</td><td>1</td><td>2</td><td>2</td><td>0</td><td>1</td><td>1</td><td>0</td></tr>\n",
       "\t<tr><th scope=row>5</th><td>0</td><td>0</td><td>0</td><td>0</td><td>0</td><td>0</td><td>0</td><td>0</td><td>1</td><td>2</td><td>2</td><td>1</td><td>1</td><td>3</td><td>2</td><td>0</td><td>0</td><td>1</td><td>1</td></tr>\n",
       "\t<tr><th scope=row>6</th><td>0</td><td>0</td><td>0</td><td>0</td><td>0</td><td>0</td><td>0</td><td>1</td><td>1</td><td>2</td><td>1</td><td>0</td><td>2</td><td>3</td><td>2</td><td>1</td><td>1</td><td>3</td><td>0</td></tr>\n",
       "</tbody>\n",
       "</table>\n"
      ],
      "text/latex": [
       "A data.frame: 6 × 19\n",
       "\\begin{tabular}{r|lllllllllllllllllll}\n",
       "  & X0 & X1 & X2 & X3 & X4 & X5 & X6 & X7 & X8 & X9 & X10 & X11 & X12 & X13 & X14 & X15 & X16 & X17 & target\\\\\n",
       "  & <int> & <int> & <int> & <int> & <int> & <int> & <int> & <int> & <int> & <int> & <int> & <int> & <int> & <int> & <int> & <int> & <int> & <int> & <dbl>\\\\\n",
       "\\hline\n",
       "\t1 & 0 & 1 & 0 & 0 & 0 & 0 & 0 & 1 & 1 & 4 & 2 & 0 & 2 & 7 & 2 & 1 & 1 & 5 & 0\\\\\n",
       "\t2 & 2 & 1 & 0 & 0 & 1 & 1 & 0 & 1 & 1 & 3 & 2 & 0 & 2 & 1 & 2 & 1 & 1 & 3 & 0\\\\\n",
       "\t3 & 1 & 0 & 0 & 0 & 1 & 1 & 1 & 0 & 3 & 1 & 0 & 2 & 3 & 1 & 2 & 0 & 0 & 7 & 1\\\\\n",
       "\t4 & 0 & 0 & 0 & 0 & 0 & 1 & 0 & 1 & 1 & 2 & 1 & 1 & 1 & 2 & 2 & 0 & 1 & 1 & 0\\\\\n",
       "\t5 & 0 & 0 & 0 & 0 & 0 & 0 & 0 & 0 & 1 & 2 & 2 & 1 & 1 & 3 & 2 & 0 & 0 & 1 & 1\\\\\n",
       "\t6 & 0 & 0 & 0 & 0 & 0 & 0 & 0 & 1 & 1 & 2 & 1 & 0 & 2 & 3 & 2 & 1 & 1 & 3 & 0\\\\\n",
       "\\end{tabular}\n"
      ],
      "text/markdown": [
       "\n",
       "A data.frame: 6 × 19\n",
       "\n",
       "| <!--/--> | X0 &lt;int&gt; | X1 &lt;int&gt; | X2 &lt;int&gt; | X3 &lt;int&gt; | X4 &lt;int&gt; | X5 &lt;int&gt; | X6 &lt;int&gt; | X7 &lt;int&gt; | X8 &lt;int&gt; | X9 &lt;int&gt; | X10 &lt;int&gt; | X11 &lt;int&gt; | X12 &lt;int&gt; | X13 &lt;int&gt; | X14 &lt;int&gt; | X15 &lt;int&gt; | X16 &lt;int&gt; | X17 &lt;int&gt; | target &lt;dbl&gt; |\n",
       "|---|---|---|---|---|---|---|---|---|---|---|---|---|---|---|---|---|---|---|---|\n",
       "| 1 | 0 | 1 | 0 | 0 | 0 | 0 | 0 | 1 | 1 | 4 | 2 | 0 | 2 | 7 | 2 | 1 | 1 | 5 | 0 |\n",
       "| 2 | 2 | 1 | 0 | 0 | 1 | 1 | 0 | 1 | 1 | 3 | 2 | 0 | 2 | 1 | 2 | 1 | 1 | 3 | 0 |\n",
       "| 3 | 1 | 0 | 0 | 0 | 1 | 1 | 1 | 0 | 3 | 1 | 0 | 2 | 3 | 1 | 2 | 0 | 0 | 7 | 1 |\n",
       "| 4 | 0 | 0 | 0 | 0 | 0 | 1 | 0 | 1 | 1 | 2 | 1 | 1 | 1 | 2 | 2 | 0 | 1 | 1 | 0 |\n",
       "| 5 | 0 | 0 | 0 | 0 | 0 | 0 | 0 | 0 | 1 | 2 | 2 | 1 | 1 | 3 | 2 | 0 | 0 | 1 | 1 |\n",
       "| 6 | 0 | 0 | 0 | 0 | 0 | 0 | 0 | 1 | 1 | 2 | 1 | 0 | 2 | 3 | 2 | 1 | 1 | 3 | 0 |\n",
       "\n"
      ],
      "text/plain": [
       "  X0 X1 X2 X3 X4 X5 X6 X7 X8 X9 X10 X11 X12 X13 X14 X15 X16 X17 target\n",
       "1 0  1  0  0  0  0  0  1  1  4  2   0   2   7   2   1   1   5   0     \n",
       "2 2  1  0  0  1  1  0  1  1  3  2   0   2   1   2   1   1   3   0     \n",
       "3 1  0  0  0  1  1  1  0  3  1  0   2   3   1   2   0   0   7   1     \n",
       "4 0  0  0  0  0  1  0  1  1  2  1   1   1   2   2   0   1   1   0     \n",
       "5 0  0  0  0  0  0  0  0  1  2  2   1   1   3   2   0   0   1   1     \n",
       "6 0  0  0  0  0  0  0  1  1  2  1   0   2   3   2   1   1   3   0     "
      ]
     },
     "metadata": {},
     "output_type": "display_data"
    }
   ],
   "source": [
    "data <- data %>%\n",
    "  mutate(target = ifelse(target == 1, 0, 1))\n",
    "\n",
    "data %>% head"
   ]
  },
  {
   "cell_type": "code",
   "execution_count": 13,
   "id": "592c077a-cd03-432f-a433-7f3e63025b0d",
   "metadata": {},
   "outputs": [
    {
     "data": {
      "text/html": [
       "<style>\n",
       ".list-inline {list-style: none; margin:0; padding: 0}\n",
       ".list-inline>li {display: inline-block}\n",
       ".list-inline>li:not(:last-child)::after {content: \"\\00b7\"; padding: 0 .5ex}\n",
       "</style>\n",
       "<ol class=list-inline><li>'X0'</li><li>'X8'</li><li>'X9'</li><li>'X10'</li><li>'X11'</li><li>'X12'</li><li>'X13'</li><li>'X14'</li><li>'X17'</li></ol>\n"
      ],
      "text/latex": [
       "\\begin{enumerate*}\n",
       "\\item 'X0'\n",
       "\\item 'X8'\n",
       "\\item 'X9'\n",
       "\\item 'X10'\n",
       "\\item 'X11'\n",
       "\\item 'X12'\n",
       "\\item 'X13'\n",
       "\\item 'X14'\n",
       "\\item 'X17'\n",
       "\\end{enumerate*}\n"
      ],
      "text/markdown": [
       "1. 'X0'\n",
       "2. 'X8'\n",
       "3. 'X9'\n",
       "4. 'X10'\n",
       "5. 'X11'\n",
       "6. 'X12'\n",
       "7. 'X13'\n",
       "8. 'X14'\n",
       "9. 'X17'\n",
       "\n",
       "\n"
      ],
      "text/plain": [
       "[1] \"X0\"  \"X8\"  \"X9\"  \"X10\" \"X11\" \"X12\" \"X13\" \"X14\" \"X17\""
      ]
     },
     "metadata": {},
     "output_type": "display_data"
    }
   ],
   "source": [
    "cols_with_non_binary <- sapply(data, function(col) {\n",
    "  any(!col %in% c(0, 1))\n",
    "})\n",
    "\n",
    "# Get the names of columns that have values other than 0 or 1\n",
    "names(data)[cols_with_non_binary]"
   ]
  },
  {
   "cell_type": "code",
   "execution_count": 14,
   "id": "da445629-e2ee-4294-9f3e-b31b3ed2105e",
   "metadata": {},
   "outputs": [
    {
     "data": {
      "text/html": [
       "<table class=\"dataframe\">\n",
       "<caption>A data.frame: 4 × 2</caption>\n",
       "<thead>\n",
       "\t<tr><th scope=col>X0</th><th scope=col>n</th></tr>\n",
       "\t<tr><th scope=col>&lt;int&gt;</th><th scope=col>&lt;int&gt;</th></tr>\n",
       "</thead>\n",
       "<tbody>\n",
       "\t<tr><td>0</td><td>67</td></tr>\n",
       "\t<tr><td>1</td><td>46</td></tr>\n",
       "\t<tr><td>2</td><td>33</td></tr>\n",
       "\t<tr><td>3</td><td> 2</td></tr>\n",
       "</tbody>\n",
       "</table>\n"
      ],
      "text/latex": [
       "A data.frame: 4 × 2\n",
       "\\begin{tabular}{ll}\n",
       " X0 & n\\\\\n",
       " <int> & <int>\\\\\n",
       "\\hline\n",
       "\t 0 & 67\\\\\n",
       "\t 1 & 46\\\\\n",
       "\t 2 & 33\\\\\n",
       "\t 3 &  2\\\\\n",
       "\\end{tabular}\n"
      ],
      "text/markdown": [
       "\n",
       "A data.frame: 4 × 2\n",
       "\n",
       "| X0 &lt;int&gt; | n &lt;int&gt; |\n",
       "|---|---|\n",
       "| 0 | 67 |\n",
       "| 1 | 46 |\n",
       "| 2 | 33 |\n",
       "| 3 |  2 |\n",
       "\n"
      ],
      "text/plain": [
       "  X0 n \n",
       "1 0  67\n",
       "2 1  46\n",
       "3 2  33\n",
       "4 3   2"
      ]
     },
     "metadata": {},
     "output_type": "display_data"
    },
    {
     "data": {
      "text/html": [
       "<table class=\"dataframe\">\n",
       "<caption>A data.frame: 6 × 4</caption>\n",
       "<thead>\n",
       "\t<tr><th></th><th scope=col>X0</th><th scope=col>X0_0</th><th scope=col>X0_1</th><th scope=col>X0_2</th></tr>\n",
       "\t<tr><th></th><th scope=col>&lt;int&gt;</th><th scope=col>&lt;dbl&gt;</th><th scope=col>&lt;dbl&gt;</th><th scope=col>&lt;dbl&gt;</th></tr>\n",
       "</thead>\n",
       "<tbody>\n",
       "\t<tr><th scope=row>1</th><td>0</td><td>1</td><td>0</td><td>0</td></tr>\n",
       "\t<tr><th scope=row>2</th><td>2</td><td>0</td><td>0</td><td>1</td></tr>\n",
       "\t<tr><th scope=row>3</th><td>1</td><td>0</td><td>1</td><td>0</td></tr>\n",
       "\t<tr><th scope=row>4</th><td>0</td><td>1</td><td>0</td><td>0</td></tr>\n",
       "\t<tr><th scope=row>5</th><td>0</td><td>1</td><td>0</td><td>0</td></tr>\n",
       "\t<tr><th scope=row>6</th><td>0</td><td>1</td><td>0</td><td>0</td></tr>\n",
       "</tbody>\n",
       "</table>\n"
      ],
      "text/latex": [
       "A data.frame: 6 × 4\n",
       "\\begin{tabular}{r|llll}\n",
       "  & X0 & X0\\_0 & X0\\_1 & X0\\_2\\\\\n",
       "  & <int> & <dbl> & <dbl> & <dbl>\\\\\n",
       "\\hline\n",
       "\t1 & 0 & 1 & 0 & 0\\\\\n",
       "\t2 & 2 & 0 & 0 & 1\\\\\n",
       "\t3 & 1 & 0 & 1 & 0\\\\\n",
       "\t4 & 0 & 1 & 0 & 0\\\\\n",
       "\t5 & 0 & 1 & 0 & 0\\\\\n",
       "\t6 & 0 & 1 & 0 & 0\\\\\n",
       "\\end{tabular}\n"
      ],
      "text/markdown": [
       "\n",
       "A data.frame: 6 × 4\n",
       "\n",
       "| <!--/--> | X0 &lt;int&gt; | X0_0 &lt;dbl&gt; | X0_1 &lt;dbl&gt; | X0_2 &lt;dbl&gt; |\n",
       "|---|---|---|---|---|\n",
       "| 1 | 0 | 1 | 0 | 0 |\n",
       "| 2 | 2 | 0 | 0 | 1 |\n",
       "| 3 | 1 | 0 | 1 | 0 |\n",
       "| 4 | 0 | 1 | 0 | 0 |\n",
       "| 5 | 0 | 1 | 0 | 0 |\n",
       "| 6 | 0 | 1 | 0 | 0 |\n",
       "\n"
      ],
      "text/plain": [
       "  X0 X0_0 X0_1 X0_2\n",
       "1 0  1    0    0   \n",
       "2 2  0    0    1   \n",
       "3 1  0    1    0   \n",
       "4 0  1    0    0   \n",
       "5 0  1    0    0   \n",
       "6 0  1    0    0   "
      ]
     },
     "metadata": {},
     "output_type": "display_data"
    }
   ],
   "source": [
    "data %>% count(X0)\n",
    "\n",
    "data <- data %>%\n",
    "  mutate(X0_0 = ifelse(X0 == 0, 1, 0))\n",
    "\n",
    "data <- data %>%\n",
    "  mutate(X0_1 = ifelse(X0 == 1, 1, 0))\n",
    "\n",
    "data <- data %>%\n",
    "  mutate(X0_2 = ifelse(X0 == 2, 1, 0))\n",
    "\n",
    "data %>% select(X0, X0_0, X0_1, X0_2) %>% head\n",
    "\n",
    "data %>% select(-X0) -> data"
   ]
  },
  {
   "cell_type": "code",
   "execution_count": 15,
   "id": "d14f3d14-7f64-4bb9-a51e-b2cc883cacc9",
   "metadata": {},
   "outputs": [
    {
     "data": {
      "text/html": [
       "<table class=\"dataframe\">\n",
       "<caption>A data.frame: 3 × 2</caption>\n",
       "<thead>\n",
       "\t<tr><th scope=col>X8</th><th scope=col>n</th></tr>\n",
       "\t<tr><th scope=col>&lt;int&gt;</th><th scope=col>&lt;int&gt;</th></tr>\n",
       "</thead>\n",
       "<tbody>\n",
       "\t<tr><td>1</td><td>142</td></tr>\n",
       "\t<tr><td>2</td><td>  3</td></tr>\n",
       "\t<tr><td>3</td><td>  3</td></tr>\n",
       "</tbody>\n",
       "</table>\n"
      ],
      "text/latex": [
       "A data.frame: 3 × 2\n",
       "\\begin{tabular}{ll}\n",
       " X8 & n\\\\\n",
       " <int> & <int>\\\\\n",
       "\\hline\n",
       "\t 1 & 142\\\\\n",
       "\t 2 &   3\\\\\n",
       "\t 3 &   3\\\\\n",
       "\\end{tabular}\n"
      ],
      "text/markdown": [
       "\n",
       "A data.frame: 3 × 2\n",
       "\n",
       "| X8 &lt;int&gt; | n &lt;int&gt; |\n",
       "|---|---|\n",
       "| 1 | 142 |\n",
       "| 2 |   3 |\n",
       "| 3 |   3 |\n",
       "\n"
      ],
      "text/plain": [
       "  X8 n  \n",
       "1 1  142\n",
       "2 2    3\n",
       "3 3    3"
      ]
     },
     "metadata": {},
     "output_type": "display_data"
    }
   ],
   "source": [
    "data %>% count(X8)\n",
    "data %>% select(-X8) -> data"
   ]
  },
  {
   "cell_type": "code",
   "execution_count": 16,
   "id": "b4020739-c45b-43ed-927d-d530b0446455",
   "metadata": {},
   "outputs": [
    {
     "data": {
      "text/html": [
       "<table class=\"dataframe\">\n",
       "<caption>A data.frame: 4 × 2</caption>\n",
       "<thead>\n",
       "\t<tr><th scope=col>X9</th><th scope=col>n</th></tr>\n",
       "\t<tr><th scope=col>&lt;int&gt;</th><th scope=col>&lt;int&gt;</th></tr>\n",
       "</thead>\n",
       "<tbody>\n",
       "\t<tr><td>1</td><td>13</td></tr>\n",
       "\t<tr><td>2</td><td>72</td></tr>\n",
       "\t<tr><td>3</td><td>43</td></tr>\n",
       "\t<tr><td>4</td><td>20</td></tr>\n",
       "</tbody>\n",
       "</table>\n"
      ],
      "text/latex": [
       "A data.frame: 4 × 2\n",
       "\\begin{tabular}{ll}\n",
       " X9 & n\\\\\n",
       " <int> & <int>\\\\\n",
       "\\hline\n",
       "\t 1 & 13\\\\\n",
       "\t 2 & 72\\\\\n",
       "\t 3 & 43\\\\\n",
       "\t 4 & 20\\\\\n",
       "\\end{tabular}\n"
      ],
      "text/markdown": [
       "\n",
       "A data.frame: 4 × 2\n",
       "\n",
       "| X9 &lt;int&gt; | n &lt;int&gt; |\n",
       "|---|---|\n",
       "| 1 | 13 |\n",
       "| 2 | 72 |\n",
       "| 3 | 43 |\n",
       "| 4 | 20 |\n",
       "\n"
      ],
      "text/plain": [
       "  X9 n \n",
       "1 1  13\n",
       "2 2  72\n",
       "3 3  43\n",
       "4 4  20"
      ]
     },
     "metadata": {},
     "output_type": "display_data"
    },
    {
     "data": {
      "text/html": [
       "<table class=\"dataframe\">\n",
       "<caption>A data.frame: 6 × 4</caption>\n",
       "<thead>\n",
       "\t<tr><th></th><th scope=col>X9</th><th scope=col>X9_1</th><th scope=col>X9_2</th><th scope=col>X9_3</th></tr>\n",
       "\t<tr><th></th><th scope=col>&lt;int&gt;</th><th scope=col>&lt;dbl&gt;</th><th scope=col>&lt;dbl&gt;</th><th scope=col>&lt;dbl&gt;</th></tr>\n",
       "</thead>\n",
       "<tbody>\n",
       "\t<tr><th scope=row>1</th><td>4</td><td>0</td><td>0</td><td>0</td></tr>\n",
       "\t<tr><th scope=row>2</th><td>3</td><td>0</td><td>0</td><td>1</td></tr>\n",
       "\t<tr><th scope=row>3</th><td>1</td><td>1</td><td>0</td><td>0</td></tr>\n",
       "\t<tr><th scope=row>4</th><td>2</td><td>0</td><td>1</td><td>0</td></tr>\n",
       "\t<tr><th scope=row>5</th><td>2</td><td>0</td><td>1</td><td>0</td></tr>\n",
       "\t<tr><th scope=row>6</th><td>2</td><td>0</td><td>1</td><td>0</td></tr>\n",
       "</tbody>\n",
       "</table>\n"
      ],
      "text/latex": [
       "A data.frame: 6 × 4\n",
       "\\begin{tabular}{r|llll}\n",
       "  & X9 & X9\\_1 & X9\\_2 & X9\\_3\\\\\n",
       "  & <int> & <dbl> & <dbl> & <dbl>\\\\\n",
       "\\hline\n",
       "\t1 & 4 & 0 & 0 & 0\\\\\n",
       "\t2 & 3 & 0 & 0 & 1\\\\\n",
       "\t3 & 1 & 1 & 0 & 0\\\\\n",
       "\t4 & 2 & 0 & 1 & 0\\\\\n",
       "\t5 & 2 & 0 & 1 & 0\\\\\n",
       "\t6 & 2 & 0 & 1 & 0\\\\\n",
       "\\end{tabular}\n"
      ],
      "text/markdown": [
       "\n",
       "A data.frame: 6 × 4\n",
       "\n",
       "| <!--/--> | X9 &lt;int&gt; | X9_1 &lt;dbl&gt; | X9_2 &lt;dbl&gt; | X9_3 &lt;dbl&gt; |\n",
       "|---|---|---|---|---|\n",
       "| 1 | 4 | 0 | 0 | 0 |\n",
       "| 2 | 3 | 0 | 0 | 1 |\n",
       "| 3 | 1 | 1 | 0 | 0 |\n",
       "| 4 | 2 | 0 | 1 | 0 |\n",
       "| 5 | 2 | 0 | 1 | 0 |\n",
       "| 6 | 2 | 0 | 1 | 0 |\n",
       "\n"
      ],
      "text/plain": [
       "  X9 X9_1 X9_2 X9_3\n",
       "1 4  0    0    0   \n",
       "2 3  0    0    1   \n",
       "3 1  1    0    0   \n",
       "4 2  0    1    0   \n",
       "5 2  0    1    0   \n",
       "6 2  0    1    0   "
      ]
     },
     "metadata": {},
     "output_type": "display_data"
    }
   ],
   "source": [
    "data %>% count(X9)\n",
    "\n",
    "data <- data %>%\n",
    "  mutate(X9_1 = ifelse(X9 == 1, 1, 0))\n",
    "\n",
    "data <- data %>%\n",
    "  mutate(X9_2 = ifelse(X9 == 2, 1, 0))\n",
    "\n",
    "data <- data %>%\n",
    "  mutate(X9_3 = ifelse(X9 == 3, 1, 0))\n",
    "\n",
    "data %>% select(X9, X9_1, X9_2, X9_3) %>% head\n",
    "\n",
    "data %>% select(-X9) -> data"
   ]
  },
  {
   "cell_type": "code",
   "execution_count": 17,
   "id": "a7c1d778-1abb-485e-a0cb-a3d0984eeb51",
   "metadata": {},
   "outputs": [
    {
     "data": {
      "text/html": [
       "<table class=\"dataframe\">\n",
       "<caption>A data.frame: 3 × 2</caption>\n",
       "<thead>\n",
       "\t<tr><th scope=col>X10</th><th scope=col>n</th></tr>\n",
       "\t<tr><th scope=col>&lt;int&gt;</th><th scope=col>&lt;int&gt;</th></tr>\n",
       "</thead>\n",
       "<tbody>\n",
       "\t<tr><td>0</td><td> 6</td></tr>\n",
       "\t<tr><td>1</td><td>77</td></tr>\n",
       "\t<tr><td>2</td><td>65</td></tr>\n",
       "</tbody>\n",
       "</table>\n"
      ],
      "text/latex": [
       "A data.frame: 3 × 2\n",
       "\\begin{tabular}{ll}\n",
       " X10 & n\\\\\n",
       " <int> & <int>\\\\\n",
       "\\hline\n",
       "\t 0 &  6\\\\\n",
       "\t 1 & 77\\\\\n",
       "\t 2 & 65\\\\\n",
       "\\end{tabular}\n"
      ],
      "text/markdown": [
       "\n",
       "A data.frame: 3 × 2\n",
       "\n",
       "| X10 &lt;int&gt; | n &lt;int&gt; |\n",
       "|---|---|\n",
       "| 0 |  6 |\n",
       "| 1 | 77 |\n",
       "| 2 | 65 |\n",
       "\n"
      ],
      "text/plain": [
       "  X10 n \n",
       "1 0    6\n",
       "2 1   77\n",
       "3 2   65"
      ]
     },
     "metadata": {},
     "output_type": "display_data"
    },
    {
     "data": {
      "text/html": [
       "<table class=\"dataframe\">\n",
       "<caption>A data.frame: 6 × 3</caption>\n",
       "<thead>\n",
       "\t<tr><th></th><th scope=col>X10</th><th scope=col>X10_1</th><th scope=col>X10_2</th></tr>\n",
       "\t<tr><th></th><th scope=col>&lt;int&gt;</th><th scope=col>&lt;dbl&gt;</th><th scope=col>&lt;dbl&gt;</th></tr>\n",
       "</thead>\n",
       "<tbody>\n",
       "\t<tr><th scope=row>1</th><td>2</td><td>0</td><td>1</td></tr>\n",
       "\t<tr><th scope=row>2</th><td>2</td><td>0</td><td>1</td></tr>\n",
       "\t<tr><th scope=row>3</th><td>0</td><td>0</td><td>0</td></tr>\n",
       "\t<tr><th scope=row>4</th><td>1</td><td>1</td><td>0</td></tr>\n",
       "\t<tr><th scope=row>5</th><td>2</td><td>0</td><td>1</td></tr>\n",
       "\t<tr><th scope=row>6</th><td>1</td><td>1</td><td>0</td></tr>\n",
       "</tbody>\n",
       "</table>\n"
      ],
      "text/latex": [
       "A data.frame: 6 × 3\n",
       "\\begin{tabular}{r|lll}\n",
       "  & X10 & X10\\_1 & X10\\_2\\\\\n",
       "  & <int> & <dbl> & <dbl>\\\\\n",
       "\\hline\n",
       "\t1 & 2 & 0 & 1\\\\\n",
       "\t2 & 2 & 0 & 1\\\\\n",
       "\t3 & 0 & 0 & 0\\\\\n",
       "\t4 & 1 & 1 & 0\\\\\n",
       "\t5 & 2 & 0 & 1\\\\\n",
       "\t6 & 1 & 1 & 0\\\\\n",
       "\\end{tabular}\n"
      ],
      "text/markdown": [
       "\n",
       "A data.frame: 6 × 3\n",
       "\n",
       "| <!--/--> | X10 &lt;int&gt; | X10_1 &lt;dbl&gt; | X10_2 &lt;dbl&gt; |\n",
       "|---|---|---|---|\n",
       "| 1 | 2 | 0 | 1 |\n",
       "| 2 | 2 | 0 | 1 |\n",
       "| 3 | 0 | 0 | 0 |\n",
       "| 4 | 1 | 1 | 0 |\n",
       "| 5 | 2 | 0 | 1 |\n",
       "| 6 | 1 | 1 | 0 |\n",
       "\n"
      ],
      "text/plain": [
       "  X10 X10_1 X10_2\n",
       "1 2   0     1    \n",
       "2 2   0     1    \n",
       "3 0   0     0    \n",
       "4 1   1     0    \n",
       "5 2   0     1    \n",
       "6 1   1     0    "
      ]
     },
     "metadata": {},
     "output_type": "display_data"
    }
   ],
   "source": [
    "data %>% count(X10)\n",
    "\n",
    "data <- data %>%\n",
    "  mutate(X10_1 = ifelse(X10 == 1, 1, 0))\n",
    "\n",
    "data <- data %>%\n",
    "  mutate(X10_2 = ifelse(X10 == 2, 1, 0))\n",
    "\n",
    "data %>% select(X10, X10_1, X10_2) %>% head\n",
    "\n",
    "data %>% select(-X10) -> data"
   ]
  },
  {
   "cell_type": "code",
   "execution_count": 18,
   "id": "1925c3d1-9d6d-40ef-bca7-2d10bf5bfd8d",
   "metadata": {},
   "outputs": [
    {
     "data": {
      "text/html": [
       "<table class=\"dataframe\">\n",
       "<caption>A data.frame: 4 × 2</caption>\n",
       "<thead>\n",
       "\t<tr><th scope=col>X11</th><th scope=col>n</th></tr>\n",
       "\t<tr><th scope=col>&lt;int&gt;</th><th scope=col>&lt;int&gt;</th></tr>\n",
       "</thead>\n",
       "<tbody>\n",
       "\t<tr><td>0</td><td>50</td></tr>\n",
       "\t<tr><td>1</td><td>46</td></tr>\n",
       "\t<tr><td>2</td><td>49</td></tr>\n",
       "\t<tr><td>3</td><td> 3</td></tr>\n",
       "</tbody>\n",
       "</table>\n"
      ],
      "text/latex": [
       "A data.frame: 4 × 2\n",
       "\\begin{tabular}{ll}\n",
       " X11 & n\\\\\n",
       " <int> & <int>\\\\\n",
       "\\hline\n",
       "\t 0 & 50\\\\\n",
       "\t 1 & 46\\\\\n",
       "\t 2 & 49\\\\\n",
       "\t 3 &  3\\\\\n",
       "\\end{tabular}\n"
      ],
      "text/markdown": [
       "\n",
       "A data.frame: 4 × 2\n",
       "\n",
       "| X11 &lt;int&gt; | n &lt;int&gt; |\n",
       "|---|---|\n",
       "| 0 | 50 |\n",
       "| 1 | 46 |\n",
       "| 2 | 49 |\n",
       "| 3 |  3 |\n",
       "\n"
      ],
      "text/plain": [
       "  X11 n \n",
       "1 0   50\n",
       "2 1   46\n",
       "3 2   49\n",
       "4 3    3"
      ]
     },
     "metadata": {},
     "output_type": "display_data"
    },
    {
     "data": {
      "text/html": [
       "<table class=\"dataframe\">\n",
       "<caption>A data.frame: 6 × 4</caption>\n",
       "<thead>\n",
       "\t<tr><th></th><th scope=col>X11</th><th scope=col>X11_0</th><th scope=col>X11_1</th><th scope=col>X11_2</th></tr>\n",
       "\t<tr><th></th><th scope=col>&lt;int&gt;</th><th scope=col>&lt;dbl&gt;</th><th scope=col>&lt;dbl&gt;</th><th scope=col>&lt;dbl&gt;</th></tr>\n",
       "</thead>\n",
       "<tbody>\n",
       "\t<tr><th scope=row>1</th><td>0</td><td>1</td><td>0</td><td>0</td></tr>\n",
       "\t<tr><th scope=row>2</th><td>0</td><td>1</td><td>0</td><td>0</td></tr>\n",
       "\t<tr><th scope=row>3</th><td>2</td><td>0</td><td>0</td><td>1</td></tr>\n",
       "\t<tr><th scope=row>4</th><td>1</td><td>0</td><td>1</td><td>0</td></tr>\n",
       "\t<tr><th scope=row>5</th><td>1</td><td>0</td><td>1</td><td>0</td></tr>\n",
       "\t<tr><th scope=row>6</th><td>0</td><td>1</td><td>0</td><td>0</td></tr>\n",
       "</tbody>\n",
       "</table>\n"
      ],
      "text/latex": [
       "A data.frame: 6 × 4\n",
       "\\begin{tabular}{r|llll}\n",
       "  & X11 & X11\\_0 & X11\\_1 & X11\\_2\\\\\n",
       "  & <int> & <dbl> & <dbl> & <dbl>\\\\\n",
       "\\hline\n",
       "\t1 & 0 & 1 & 0 & 0\\\\\n",
       "\t2 & 0 & 1 & 0 & 0\\\\\n",
       "\t3 & 2 & 0 & 0 & 1\\\\\n",
       "\t4 & 1 & 0 & 1 & 0\\\\\n",
       "\t5 & 1 & 0 & 1 & 0\\\\\n",
       "\t6 & 0 & 1 & 0 & 0\\\\\n",
       "\\end{tabular}\n"
      ],
      "text/markdown": [
       "\n",
       "A data.frame: 6 × 4\n",
       "\n",
       "| <!--/--> | X11 &lt;int&gt; | X11_0 &lt;dbl&gt; | X11_1 &lt;dbl&gt; | X11_2 &lt;dbl&gt; |\n",
       "|---|---|---|---|---|\n",
       "| 1 | 0 | 1 | 0 | 0 |\n",
       "| 2 | 0 | 1 | 0 | 0 |\n",
       "| 3 | 2 | 0 | 0 | 1 |\n",
       "| 4 | 1 | 0 | 1 | 0 |\n",
       "| 5 | 1 | 0 | 1 | 0 |\n",
       "| 6 | 0 | 1 | 0 | 0 |\n",
       "\n"
      ],
      "text/plain": [
       "  X11 X11_0 X11_1 X11_2\n",
       "1 0   1     0     0    \n",
       "2 0   1     0     0    \n",
       "3 2   0     0     1    \n",
       "4 1   0     1     0    \n",
       "5 1   0     1     0    \n",
       "6 0   1     0     0    "
      ]
     },
     "metadata": {},
     "output_type": "display_data"
    }
   ],
   "source": [
    "data %>% count(X11)\n",
    "\n",
    "data <- data %>%\n",
    "  mutate(X11_0 = ifelse(X11 == 0, 1, 0))\n",
    "\n",
    "data <- data %>%\n",
    "  mutate(X11_1 = ifelse(X11 == 1, 1, 0))\n",
    "\n",
    "data <- data %>%\n",
    "  mutate(X11_2 = ifelse(X11 == 2, 1, 0))\n",
    "\n",
    "data %>% select(X11, X11_0, X11_1, X11_2) %>% head\n",
    "\n",
    "data %>% select(-X11) -> data"
   ]
  },
  {
   "cell_type": "code",
   "execution_count": 19,
   "id": "95c0c224-79a4-467f-8b53-a4b214185789",
   "metadata": {},
   "outputs": [
    {
     "data": {
      "text/html": [
       "<table class=\"dataframe\">\n",
       "<caption>A data.frame: 4 × 2</caption>\n",
       "<thead>\n",
       "\t<tr><th scope=col>X12</th><th scope=col>n</th></tr>\n",
       "\t<tr><th scope=col>&lt;int&gt;</th><th scope=col>&lt;int&gt;</th></tr>\n",
       "</thead>\n",
       "<tbody>\n",
       "\t<tr><td>0</td><td>25</td></tr>\n",
       "\t<tr><td>1</td><td>75</td></tr>\n",
       "\t<tr><td>2</td><td>42</td></tr>\n",
       "\t<tr><td>3</td><td> 6</td></tr>\n",
       "</tbody>\n",
       "</table>\n"
      ],
      "text/latex": [
       "A data.frame: 4 × 2\n",
       "\\begin{tabular}{ll}\n",
       " X12 & n\\\\\n",
       " <int> & <int>\\\\\n",
       "\\hline\n",
       "\t 0 & 25\\\\\n",
       "\t 1 & 75\\\\\n",
       "\t 2 & 42\\\\\n",
       "\t 3 &  6\\\\\n",
       "\\end{tabular}\n"
      ],
      "text/markdown": [
       "\n",
       "A data.frame: 4 × 2\n",
       "\n",
       "| X12 &lt;int&gt; | n &lt;int&gt; |\n",
       "|---|---|\n",
       "| 0 | 25 |\n",
       "| 1 | 75 |\n",
       "| 2 | 42 |\n",
       "| 3 |  6 |\n",
       "\n"
      ],
      "text/plain": [
       "  X12 n \n",
       "1 0   25\n",
       "2 1   75\n",
       "3 2   42\n",
       "4 3    6"
      ]
     },
     "metadata": {},
     "output_type": "display_data"
    },
    {
     "data": {
      "text/html": [
       "<table class=\"dataframe\">\n",
       "<caption>A data.frame: 6 × 4</caption>\n",
       "<thead>\n",
       "\t<tr><th></th><th scope=col>X12</th><th scope=col>X12_0</th><th scope=col>X12_1</th><th scope=col>X12_2</th></tr>\n",
       "\t<tr><th></th><th scope=col>&lt;int&gt;</th><th scope=col>&lt;dbl&gt;</th><th scope=col>&lt;dbl&gt;</th><th scope=col>&lt;dbl&gt;</th></tr>\n",
       "</thead>\n",
       "<tbody>\n",
       "\t<tr><th scope=row>1</th><td>2</td><td>0</td><td>0</td><td>1</td></tr>\n",
       "\t<tr><th scope=row>2</th><td>2</td><td>0</td><td>0</td><td>1</td></tr>\n",
       "\t<tr><th scope=row>3</th><td>3</td><td>0</td><td>0</td><td>0</td></tr>\n",
       "\t<tr><th scope=row>4</th><td>1</td><td>0</td><td>1</td><td>0</td></tr>\n",
       "\t<tr><th scope=row>5</th><td>1</td><td>0</td><td>1</td><td>0</td></tr>\n",
       "\t<tr><th scope=row>6</th><td>2</td><td>0</td><td>0</td><td>1</td></tr>\n",
       "</tbody>\n",
       "</table>\n"
      ],
      "text/latex": [
       "A data.frame: 6 × 4\n",
       "\\begin{tabular}{r|llll}\n",
       "  & X12 & X12\\_0 & X12\\_1 & X12\\_2\\\\\n",
       "  & <int> & <dbl> & <dbl> & <dbl>\\\\\n",
       "\\hline\n",
       "\t1 & 2 & 0 & 0 & 1\\\\\n",
       "\t2 & 2 & 0 & 0 & 1\\\\\n",
       "\t3 & 3 & 0 & 0 & 0\\\\\n",
       "\t4 & 1 & 0 & 1 & 0\\\\\n",
       "\t5 & 1 & 0 & 1 & 0\\\\\n",
       "\t6 & 2 & 0 & 0 & 1\\\\\n",
       "\\end{tabular}\n"
      ],
      "text/markdown": [
       "\n",
       "A data.frame: 6 × 4\n",
       "\n",
       "| <!--/--> | X12 &lt;int&gt; | X12_0 &lt;dbl&gt; | X12_1 &lt;dbl&gt; | X12_2 &lt;dbl&gt; |\n",
       "|---|---|---|---|---|\n",
       "| 1 | 2 | 0 | 0 | 1 |\n",
       "| 2 | 2 | 0 | 0 | 1 |\n",
       "| 3 | 3 | 0 | 0 | 0 |\n",
       "| 4 | 1 | 0 | 1 | 0 |\n",
       "| 5 | 1 | 0 | 1 | 0 |\n",
       "| 6 | 2 | 0 | 0 | 1 |\n",
       "\n"
      ],
      "text/plain": [
       "  X12 X12_0 X12_1 X12_2\n",
       "1 2   0     0     1    \n",
       "2 2   0     0     1    \n",
       "3 3   0     0     0    \n",
       "4 1   0     1     0    \n",
       "5 1   0     1     0    \n",
       "6 2   0     0     1    "
      ]
     },
     "metadata": {},
     "output_type": "display_data"
    }
   ],
   "source": [
    "data %>% count(X12)\n",
    "\n",
    "data <- data %>%\n",
    "  mutate(X12_0 = ifelse(X12 == 0, 1, 0))\n",
    "\n",
    "data <- data %>%\n",
    "  mutate(X12_1 = ifelse(X12 == 1, 1, 0))\n",
    "\n",
    "data <- data %>%\n",
    "  mutate(X12_2 = ifelse(X12 == 2, 1, 0))\n",
    "\n",
    "data %>% select(X12, X12_0, X12_1, X12_2) %>% head\n",
    "\n",
    "data %>% select(-X12) -> data"
   ]
  },
  {
   "cell_type": "code",
   "execution_count": 20,
   "id": "bb358d37-d9af-48c9-b915-8bc7d7d0949b",
   "metadata": {},
   "outputs": [
    {
     "data": {
      "text/html": [
       "<table class=\"dataframe\">\n",
       "<caption>A data.frame: 8 × 2</caption>\n",
       "<thead>\n",
       "\t<tr><th scope=col>X13</th><th scope=col>n</th></tr>\n",
       "\t<tr><th scope=col>&lt;int&gt;</th><th scope=col>&lt;int&gt;</th></tr>\n",
       "</thead>\n",
       "<tbody>\n",
       "\t<tr><td>0</td><td>31</td></tr>\n",
       "\t<tr><td>1</td><td>28</td></tr>\n",
       "\t<tr><td>2</td><td>19</td></tr>\n",
       "\t<tr><td>3</td><td>45</td></tr>\n",
       "\t<tr><td>4</td><td>14</td></tr>\n",
       "\t<tr><td>5</td><td> 2</td></tr>\n",
       "\t<tr><td>6</td><td> 2</td></tr>\n",
       "\t<tr><td>7</td><td> 7</td></tr>\n",
       "</tbody>\n",
       "</table>\n"
      ],
      "text/latex": [
       "A data.frame: 8 × 2\n",
       "\\begin{tabular}{ll}\n",
       " X13 & n\\\\\n",
       " <int> & <int>\\\\\n",
       "\\hline\n",
       "\t 0 & 31\\\\\n",
       "\t 1 & 28\\\\\n",
       "\t 2 & 19\\\\\n",
       "\t 3 & 45\\\\\n",
       "\t 4 & 14\\\\\n",
       "\t 5 &  2\\\\\n",
       "\t 6 &  2\\\\\n",
       "\t 7 &  7\\\\\n",
       "\\end{tabular}\n"
      ],
      "text/markdown": [
       "\n",
       "A data.frame: 8 × 2\n",
       "\n",
       "| X13 &lt;int&gt; | n &lt;int&gt; |\n",
       "|---|---|\n",
       "| 0 | 31 |\n",
       "| 1 | 28 |\n",
       "| 2 | 19 |\n",
       "| 3 | 45 |\n",
       "| 4 | 14 |\n",
       "| 5 |  2 |\n",
       "| 6 |  2 |\n",
       "| 7 |  7 |\n",
       "\n"
      ],
      "text/plain": [
       "  X13 n \n",
       "1 0   31\n",
       "2 1   28\n",
       "3 2   19\n",
       "4 3   45\n",
       "5 4   14\n",
       "6 5    2\n",
       "7 6    2\n",
       "8 7    7"
      ]
     },
     "metadata": {},
     "output_type": "display_data"
    },
    {
     "data": {
      "text/html": [
       "<table class=\"dataframe\">\n",
       "<caption>A data.frame: 6 × 6</caption>\n",
       "<thead>\n",
       "\t<tr><th></th><th scope=col>X13</th><th scope=col>X13_0</th><th scope=col>X13_1</th><th scope=col>X13_2</th><th scope=col>X13_3</th><th scope=col>X13_4</th></tr>\n",
       "\t<tr><th></th><th scope=col>&lt;int&gt;</th><th scope=col>&lt;dbl&gt;</th><th scope=col>&lt;dbl&gt;</th><th scope=col>&lt;dbl&gt;</th><th scope=col>&lt;dbl&gt;</th><th scope=col>&lt;dbl&gt;</th></tr>\n",
       "</thead>\n",
       "<tbody>\n",
       "\t<tr><th scope=row>1</th><td>7</td><td>0</td><td>0</td><td>0</td><td>0</td><td>0</td></tr>\n",
       "\t<tr><th scope=row>2</th><td>1</td><td>0</td><td>1</td><td>0</td><td>0</td><td>0</td></tr>\n",
       "\t<tr><th scope=row>3</th><td>1</td><td>0</td><td>1</td><td>0</td><td>0</td><td>0</td></tr>\n",
       "\t<tr><th scope=row>4</th><td>2</td><td>0</td><td>0</td><td>1</td><td>0</td><td>0</td></tr>\n",
       "\t<tr><th scope=row>5</th><td>3</td><td>0</td><td>0</td><td>0</td><td>1</td><td>0</td></tr>\n",
       "\t<tr><th scope=row>6</th><td>3</td><td>0</td><td>0</td><td>0</td><td>1</td><td>0</td></tr>\n",
       "</tbody>\n",
       "</table>\n"
      ],
      "text/latex": [
       "A data.frame: 6 × 6\n",
       "\\begin{tabular}{r|llllll}\n",
       "  & X13 & X13\\_0 & X13\\_1 & X13\\_2 & X13\\_3 & X13\\_4\\\\\n",
       "  & <int> & <dbl> & <dbl> & <dbl> & <dbl> & <dbl>\\\\\n",
       "\\hline\n",
       "\t1 & 7 & 0 & 0 & 0 & 0 & 0\\\\\n",
       "\t2 & 1 & 0 & 1 & 0 & 0 & 0\\\\\n",
       "\t3 & 1 & 0 & 1 & 0 & 0 & 0\\\\\n",
       "\t4 & 2 & 0 & 0 & 1 & 0 & 0\\\\\n",
       "\t5 & 3 & 0 & 0 & 0 & 1 & 0\\\\\n",
       "\t6 & 3 & 0 & 0 & 0 & 1 & 0\\\\\n",
       "\\end{tabular}\n"
      ],
      "text/markdown": [
       "\n",
       "A data.frame: 6 × 6\n",
       "\n",
       "| <!--/--> | X13 &lt;int&gt; | X13_0 &lt;dbl&gt; | X13_1 &lt;dbl&gt; | X13_2 &lt;dbl&gt; | X13_3 &lt;dbl&gt; | X13_4 &lt;dbl&gt; |\n",
       "|---|---|---|---|---|---|---|\n",
       "| 1 | 7 | 0 | 0 | 0 | 0 | 0 |\n",
       "| 2 | 1 | 0 | 1 | 0 | 0 | 0 |\n",
       "| 3 | 1 | 0 | 1 | 0 | 0 | 0 |\n",
       "| 4 | 2 | 0 | 0 | 1 | 0 | 0 |\n",
       "| 5 | 3 | 0 | 0 | 0 | 1 | 0 |\n",
       "| 6 | 3 | 0 | 0 | 0 | 1 | 0 |\n",
       "\n"
      ],
      "text/plain": [
       "  X13 X13_0 X13_1 X13_2 X13_3 X13_4\n",
       "1 7   0     0     0     0     0    \n",
       "2 1   0     1     0     0     0    \n",
       "3 1   0     1     0     0     0    \n",
       "4 2   0     0     1     0     0    \n",
       "5 3   0     0     0     1     0    \n",
       "6 3   0     0     0     1     0    "
      ]
     },
     "metadata": {},
     "output_type": "display_data"
    }
   ],
   "source": [
    "data %>% count(X13)\n",
    "\n",
    "data <- data %>%\n",
    "  mutate(X13_0 = ifelse(X13 == 0, 1, 0))\n",
    "\n",
    "data <- data %>%\n",
    "  mutate(X13_1 = ifelse(X13 == 1, 1, 0))\n",
    "\n",
    "data <- data %>%\n",
    "  mutate(X13_2 = ifelse(X13 == 2, 1, 0))\n",
    "\n",
    "data <- data %>%\n",
    "  mutate(X13_3 = ifelse(X13 == 3, 1, 0))\n",
    "\n",
    "data <- data %>%\n",
    "  mutate(X13_4 = ifelse(X13 == 4, 1, 0))\n",
    "\n",
    "data %>% select(X13, X13_0, X13_1, X13_2, X13_3, X13_4) %>% head\n",
    "data %>% select(-X13) -> data"
   ]
  },
  {
   "cell_type": "code",
   "execution_count": 21,
   "id": "8634202f-e0f0-4516-a43a-9368bd2bde32",
   "metadata": {},
   "outputs": [
    {
     "data": {
      "text/html": [
       "<table class=\"dataframe\">\n",
       "<caption>A data.frame: 3 × 2</caption>\n",
       "<thead>\n",
       "\t<tr><th scope=col>X14</th><th scope=col>n</th></tr>\n",
       "\t<tr><th scope=col>&lt;int&gt;</th><th scope=col>&lt;int&gt;</th></tr>\n",
       "</thead>\n",
       "<tbody>\n",
       "\t<tr><td>0</td><td>43</td></tr>\n",
       "\t<tr><td>1</td><td>28</td></tr>\n",
       "\t<tr><td>2</td><td>77</td></tr>\n",
       "</tbody>\n",
       "</table>\n"
      ],
      "text/latex": [
       "A data.frame: 3 × 2\n",
       "\\begin{tabular}{ll}\n",
       " X14 & n\\\\\n",
       " <int> & <int>\\\\\n",
       "\\hline\n",
       "\t 0 & 43\\\\\n",
       "\t 1 & 28\\\\\n",
       "\t 2 & 77\\\\\n",
       "\\end{tabular}\n"
      ],
      "text/markdown": [
       "\n",
       "A data.frame: 3 × 2\n",
       "\n",
       "| X14 &lt;int&gt; | n &lt;int&gt; |\n",
       "|---|---|\n",
       "| 0 | 43 |\n",
       "| 1 | 28 |\n",
       "| 2 | 77 |\n",
       "\n"
      ],
      "text/plain": [
       "  X14 n \n",
       "1 0   43\n",
       "2 1   28\n",
       "3 2   77"
      ]
     },
     "metadata": {},
     "output_type": "display_data"
    },
    {
     "data": {
      "text/html": [
       "<table class=\"dataframe\">\n",
       "<caption>A data.frame: 6 × 3</caption>\n",
       "<thead>\n",
       "\t<tr><th></th><th scope=col>X14</th><th scope=col>X14_0</th><th scope=col>X14_1</th></tr>\n",
       "\t<tr><th></th><th scope=col>&lt;int&gt;</th><th scope=col>&lt;dbl&gt;</th><th scope=col>&lt;dbl&gt;</th></tr>\n",
       "</thead>\n",
       "<tbody>\n",
       "\t<tr><th scope=row>1</th><td>2</td><td>0</td><td>0</td></tr>\n",
       "\t<tr><th scope=row>2</th><td>2</td><td>0</td><td>0</td></tr>\n",
       "\t<tr><th scope=row>3</th><td>2</td><td>0</td><td>0</td></tr>\n",
       "\t<tr><th scope=row>4</th><td>2</td><td>0</td><td>0</td></tr>\n",
       "\t<tr><th scope=row>5</th><td>2</td><td>0</td><td>0</td></tr>\n",
       "\t<tr><th scope=row>6</th><td>2</td><td>0</td><td>0</td></tr>\n",
       "</tbody>\n",
       "</table>\n"
      ],
      "text/latex": [
       "A data.frame: 6 × 3\n",
       "\\begin{tabular}{r|lll}\n",
       "  & X14 & X14\\_0 & X14\\_1\\\\\n",
       "  & <int> & <dbl> & <dbl>\\\\\n",
       "\\hline\n",
       "\t1 & 2 & 0 & 0\\\\\n",
       "\t2 & 2 & 0 & 0\\\\\n",
       "\t3 & 2 & 0 & 0\\\\\n",
       "\t4 & 2 & 0 & 0\\\\\n",
       "\t5 & 2 & 0 & 0\\\\\n",
       "\t6 & 2 & 0 & 0\\\\\n",
       "\\end{tabular}\n"
      ],
      "text/markdown": [
       "\n",
       "A data.frame: 6 × 3\n",
       "\n",
       "| <!--/--> | X14 &lt;int&gt; | X14_0 &lt;dbl&gt; | X14_1 &lt;dbl&gt; |\n",
       "|---|---|---|---|\n",
       "| 1 | 2 | 0 | 0 |\n",
       "| 2 | 2 | 0 | 0 |\n",
       "| 3 | 2 | 0 | 0 |\n",
       "| 4 | 2 | 0 | 0 |\n",
       "| 5 | 2 | 0 | 0 |\n",
       "| 6 | 2 | 0 | 0 |\n",
       "\n"
      ],
      "text/plain": [
       "  X14 X14_0 X14_1\n",
       "1 2   0     0    \n",
       "2 2   0     0    \n",
       "3 2   0     0    \n",
       "4 2   0     0    \n",
       "5 2   0     0    \n",
       "6 2   0     0    "
      ]
     },
     "metadata": {},
     "output_type": "display_data"
    }
   ],
   "source": [
    "data %>% count(X14)\n",
    "\n",
    "data <- data %>%\n",
    "  mutate(X14_0 = ifelse(X14 == 0, 1, 0))\n",
    "\n",
    "data <- data %>%\n",
    "  mutate(X14_1 = ifelse(X14 == 1, 1, 0))\n",
    "\n",
    "data %>% select(X14, X14_0, X14_1) %>% head\n",
    "\n",
    "data %>% select(-X14) -> data"
   ]
  },
  {
   "cell_type": "code",
   "execution_count": 22,
   "id": "08de5749-eb49-4572-9f9d-4491c27845ce",
   "metadata": {},
   "outputs": [
    {
     "data": {
      "text/html": [
       "<table class=\"dataframe\">\n",
       "<caption>A data.frame: 8 × 2</caption>\n",
       "<thead>\n",
       "\t<tr><th scope=col>X17</th><th scope=col>n</th></tr>\n",
       "\t<tr><th scope=col>&lt;int&gt;</th><th scope=col>&lt;int&gt;</th></tr>\n",
       "</thead>\n",
       "<tbody>\n",
       "\t<tr><td>1</td><td>57</td></tr>\n",
       "\t<tr><td>2</td><td>37</td></tr>\n",
       "\t<tr><td>3</td><td>18</td></tr>\n",
       "\t<tr><td>4</td><td>10</td></tr>\n",
       "\t<tr><td>5</td><td> 8</td></tr>\n",
       "\t<tr><td>6</td><td> 8</td></tr>\n",
       "\t<tr><td>7</td><td> 8</td></tr>\n",
       "\t<tr><td>8</td><td> 2</td></tr>\n",
       "</tbody>\n",
       "</table>\n"
      ],
      "text/latex": [
       "A data.frame: 8 × 2\n",
       "\\begin{tabular}{ll}\n",
       " X17 & n\\\\\n",
       " <int> & <int>\\\\\n",
       "\\hline\n",
       "\t 1 & 57\\\\\n",
       "\t 2 & 37\\\\\n",
       "\t 3 & 18\\\\\n",
       "\t 4 & 10\\\\\n",
       "\t 5 &  8\\\\\n",
       "\t 6 &  8\\\\\n",
       "\t 7 &  8\\\\\n",
       "\t 8 &  2\\\\\n",
       "\\end{tabular}\n"
      ],
      "text/markdown": [
       "\n",
       "A data.frame: 8 × 2\n",
       "\n",
       "| X17 &lt;int&gt; | n &lt;int&gt; |\n",
       "|---|---|\n",
       "| 1 | 57 |\n",
       "| 2 | 37 |\n",
       "| 3 | 18 |\n",
       "| 4 | 10 |\n",
       "| 5 |  8 |\n",
       "| 6 |  8 |\n",
       "| 7 |  8 |\n",
       "| 8 |  2 |\n",
       "\n"
      ],
      "text/plain": [
       "  X17 n \n",
       "1 1   57\n",
       "2 2   37\n",
       "3 3   18\n",
       "4 4   10\n",
       "5 5    8\n",
       "6 6    8\n",
       "7 7    8\n",
       "8 8    2"
      ]
     },
     "metadata": {},
     "output_type": "display_data"
    },
    {
     "data": {
      "text/html": [
       "<table class=\"dataframe\">\n",
       "<caption>A data.frame: 6 × 5</caption>\n",
       "<thead>\n",
       "\t<tr><th></th><th scope=col>X17</th><th scope=col>X17_1</th><th scope=col>X17_2</th><th scope=col>X17_3</th><th scope=col>X17_4</th></tr>\n",
       "\t<tr><th></th><th scope=col>&lt;int&gt;</th><th scope=col>&lt;dbl&gt;</th><th scope=col>&lt;dbl&gt;</th><th scope=col>&lt;dbl&gt;</th><th scope=col>&lt;dbl&gt;</th></tr>\n",
       "</thead>\n",
       "<tbody>\n",
       "\t<tr><th scope=row>1</th><td>5</td><td>0</td><td>0</td><td>0</td><td>0</td></tr>\n",
       "\t<tr><th scope=row>2</th><td>3</td><td>0</td><td>0</td><td>1</td><td>0</td></tr>\n",
       "\t<tr><th scope=row>3</th><td>7</td><td>0</td><td>0</td><td>0</td><td>0</td></tr>\n",
       "\t<tr><th scope=row>4</th><td>1</td><td>1</td><td>0</td><td>0</td><td>0</td></tr>\n",
       "\t<tr><th scope=row>5</th><td>1</td><td>1</td><td>0</td><td>0</td><td>0</td></tr>\n",
       "\t<tr><th scope=row>6</th><td>3</td><td>0</td><td>0</td><td>1</td><td>0</td></tr>\n",
       "</tbody>\n",
       "</table>\n"
      ],
      "text/latex": [
       "A data.frame: 6 × 5\n",
       "\\begin{tabular}{r|lllll}\n",
       "  & X17 & X17\\_1 & X17\\_2 & X17\\_3 & X17\\_4\\\\\n",
       "  & <int> & <dbl> & <dbl> & <dbl> & <dbl>\\\\\n",
       "\\hline\n",
       "\t1 & 5 & 0 & 0 & 0 & 0\\\\\n",
       "\t2 & 3 & 0 & 0 & 1 & 0\\\\\n",
       "\t3 & 7 & 0 & 0 & 0 & 0\\\\\n",
       "\t4 & 1 & 1 & 0 & 0 & 0\\\\\n",
       "\t5 & 1 & 1 & 0 & 0 & 0\\\\\n",
       "\t6 & 3 & 0 & 0 & 1 & 0\\\\\n",
       "\\end{tabular}\n"
      ],
      "text/markdown": [
       "\n",
       "A data.frame: 6 × 5\n",
       "\n",
       "| <!--/--> | X17 &lt;int&gt; | X17_1 &lt;dbl&gt; | X17_2 &lt;dbl&gt; | X17_3 &lt;dbl&gt; | X17_4 &lt;dbl&gt; |\n",
       "|---|---|---|---|---|---|\n",
       "| 1 | 5 | 0 | 0 | 0 | 0 |\n",
       "| 2 | 3 | 0 | 0 | 1 | 0 |\n",
       "| 3 | 7 | 0 | 0 | 0 | 0 |\n",
       "| 4 | 1 | 1 | 0 | 0 | 0 |\n",
       "| 5 | 1 | 1 | 0 | 0 | 0 |\n",
       "| 6 | 3 | 0 | 0 | 1 | 0 |\n",
       "\n"
      ],
      "text/plain": [
       "  X17 X17_1 X17_2 X17_3 X17_4\n",
       "1 5   0     0     0     0    \n",
       "2 3   0     0     1     0    \n",
       "3 7   0     0     0     0    \n",
       "4 1   1     0     0     0    \n",
       "5 1   1     0     0     0    \n",
       "6 3   0     0     1     0    "
      ]
     },
     "metadata": {},
     "output_type": "display_data"
    }
   ],
   "source": [
    "data %>% count(X17)\n",
    "\n",
    "data <- data %>%\n",
    "  mutate(X17_1 = ifelse(X17 == 1, 1, 0))\n",
    "\n",
    "data <- data %>%\n",
    "  mutate(X17_2 = ifelse(X17 == 2, 1, 0))\n",
    "\n",
    "data <- data %>%\n",
    "  mutate(X17_3 = ifelse(X17 == 3, 1, 0))\n",
    "\n",
    "data <- data %>%\n",
    "  mutate(X17_4 = ifelse(X17 == 4, 1, 0))\n",
    "\n",
    "data %>% select(X17, X17_1, X17_2, X17_3, X17_4) %>% head\n",
    "\n",
    "data %>% select(-X17) -> data"
   ]
  },
  {
   "cell_type": "code",
   "execution_count": 23,
   "id": "3911ab2c-fd0d-4611-a635-204921edb91c",
   "metadata": {},
   "outputs": [
    {
     "data": {
      "text/html": [
       "<style>\n",
       ".list-inline {list-style: none; margin:0; padding: 0}\n",
       ".list-inline>li {display: inline-block}\n",
       ".list-inline>li:not(:last-child)::after {content: \"\\00b7\"; padding: 0 .5ex}\n",
       "</style>\n",
       "<ol class=list-inline><li>'X1'</li><li>'X2'</li><li>'X3'</li><li>'X4'</li><li>'X5'</li><li>'X6'</li><li>'X7'</li><li>'X15'</li><li>'X16'</li><li>'target'</li><li>'X0_0'</li><li>'X0_1'</li><li>'X0_2'</li><li>'X9_1'</li><li>'X9_2'</li><li>'X9_3'</li><li>'X10_1'</li><li>'X10_2'</li><li>'X11_0'</li><li>'X11_1'</li><li>'X11_2'</li><li>'X12_0'</li><li>'X12_1'</li><li>'X12_2'</li><li>'X13_0'</li><li>'X13_1'</li><li>'X13_2'</li><li>'X13_3'</li><li>'X13_4'</li><li>'X14_0'</li><li>'X14_1'</li><li>'X17_1'</li><li>'X17_2'</li><li>'X17_3'</li><li>'X17_4'</li></ol>\n"
      ],
      "text/latex": [
       "\\begin{enumerate*}\n",
       "\\item 'X1'\n",
       "\\item 'X2'\n",
       "\\item 'X3'\n",
       "\\item 'X4'\n",
       "\\item 'X5'\n",
       "\\item 'X6'\n",
       "\\item 'X7'\n",
       "\\item 'X15'\n",
       "\\item 'X16'\n",
       "\\item 'target'\n",
       "\\item 'X0\\_0'\n",
       "\\item 'X0\\_1'\n",
       "\\item 'X0\\_2'\n",
       "\\item 'X9\\_1'\n",
       "\\item 'X9\\_2'\n",
       "\\item 'X9\\_3'\n",
       "\\item 'X10\\_1'\n",
       "\\item 'X10\\_2'\n",
       "\\item 'X11\\_0'\n",
       "\\item 'X11\\_1'\n",
       "\\item 'X11\\_2'\n",
       "\\item 'X12\\_0'\n",
       "\\item 'X12\\_1'\n",
       "\\item 'X12\\_2'\n",
       "\\item 'X13\\_0'\n",
       "\\item 'X13\\_1'\n",
       "\\item 'X13\\_2'\n",
       "\\item 'X13\\_3'\n",
       "\\item 'X13\\_4'\n",
       "\\item 'X14\\_0'\n",
       "\\item 'X14\\_1'\n",
       "\\item 'X17\\_1'\n",
       "\\item 'X17\\_2'\n",
       "\\item 'X17\\_3'\n",
       "\\item 'X17\\_4'\n",
       "\\end{enumerate*}\n"
      ],
      "text/markdown": [
       "1. 'X1'\n",
       "2. 'X2'\n",
       "3. 'X3'\n",
       "4. 'X4'\n",
       "5. 'X5'\n",
       "6. 'X6'\n",
       "7. 'X7'\n",
       "8. 'X15'\n",
       "9. 'X16'\n",
       "10. 'target'\n",
       "11. 'X0_0'\n",
       "12. 'X0_1'\n",
       "13. 'X0_2'\n",
       "14. 'X9_1'\n",
       "15. 'X9_2'\n",
       "16. 'X9_3'\n",
       "17. 'X10_1'\n",
       "18. 'X10_2'\n",
       "19. 'X11_0'\n",
       "20. 'X11_1'\n",
       "21. 'X11_2'\n",
       "22. 'X12_0'\n",
       "23. 'X12_1'\n",
       "24. 'X12_2'\n",
       "25. 'X13_0'\n",
       "26. 'X13_1'\n",
       "27. 'X13_2'\n",
       "28. 'X13_3'\n",
       "29. 'X13_4'\n",
       "30. 'X14_0'\n",
       "31. 'X14_1'\n",
       "32. 'X17_1'\n",
       "33. 'X17_2'\n",
       "34. 'X17_3'\n",
       "35. 'X17_4'\n",
       "\n",
       "\n"
      ],
      "text/plain": [
       " [1] \"X1\"     \"X2\"     \"X3\"     \"X4\"     \"X5\"     \"X6\"     \"X7\"     \"X15\"   \n",
       " [9] \"X16\"    \"target\" \"X0_0\"   \"X0_1\"   \"X0_2\"   \"X9_1\"   \"X9_2\"   \"X9_3\"  \n",
       "[17] \"X10_1\"  \"X10_2\"  \"X11_0\"  \"X11_1\"  \"X11_2\"  \"X12_0\"  \"X12_1\"  \"X12_2\" \n",
       "[25] \"X13_0\"  \"X13_1\"  \"X13_2\"  \"X13_3\"  \"X13_4\"  \"X14_0\"  \"X14_1\"  \"X17_1\" \n",
       "[33] \"X17_2\"  \"X17_3\"  \"X17_4\" "
      ]
     },
     "metadata": {},
     "output_type": "display_data"
    },
    {
     "data": {
      "text/html": [
       "<table class=\"dataframe\">\n",
       "<caption>A data.frame: 6 × 35</caption>\n",
       "<thead>\n",
       "\t<tr><th></th><th scope=col>X1</th><th scope=col>X2</th><th scope=col>X3</th><th scope=col>X4</th><th scope=col>X5</th><th scope=col>X6</th><th scope=col>X7</th><th scope=col>X15</th><th scope=col>X16</th><th scope=col>X0_0</th><th scope=col>⋯</th><th scope=col>X13_2</th><th scope=col>X13_3</th><th scope=col>X13_4</th><th scope=col>X14_0</th><th scope=col>X14_1</th><th scope=col>X17_1</th><th scope=col>X17_2</th><th scope=col>X17_3</th><th scope=col>X17_4</th><th scope=col>target</th></tr>\n",
       "\t<tr><th></th><th scope=col>&lt;int&gt;</th><th scope=col>&lt;int&gt;</th><th scope=col>&lt;int&gt;</th><th scope=col>&lt;int&gt;</th><th scope=col>&lt;int&gt;</th><th scope=col>&lt;int&gt;</th><th scope=col>&lt;int&gt;</th><th scope=col>&lt;int&gt;</th><th scope=col>&lt;int&gt;</th><th scope=col>&lt;dbl&gt;</th><th scope=col>⋯</th><th scope=col>&lt;dbl&gt;</th><th scope=col>&lt;dbl&gt;</th><th scope=col>&lt;dbl&gt;</th><th scope=col>&lt;dbl&gt;</th><th scope=col>&lt;dbl&gt;</th><th scope=col>&lt;dbl&gt;</th><th scope=col>&lt;dbl&gt;</th><th scope=col>&lt;dbl&gt;</th><th scope=col>&lt;dbl&gt;</th><th scope=col>&lt;dbl&gt;</th></tr>\n",
       "</thead>\n",
       "<tbody>\n",
       "\t<tr><th scope=row>1</th><td>1</td><td>0</td><td>0</td><td>0</td><td>0</td><td>0</td><td>1</td><td>1</td><td>1</td><td>1</td><td>⋯</td><td>0</td><td>0</td><td>0</td><td>0</td><td>0</td><td>0</td><td>0</td><td>0</td><td>0</td><td>0</td></tr>\n",
       "\t<tr><th scope=row>2</th><td>1</td><td>0</td><td>0</td><td>1</td><td>1</td><td>0</td><td>1</td><td>1</td><td>1</td><td>0</td><td>⋯</td><td>0</td><td>0</td><td>0</td><td>0</td><td>0</td><td>0</td><td>0</td><td>1</td><td>0</td><td>0</td></tr>\n",
       "\t<tr><th scope=row>3</th><td>0</td><td>0</td><td>0</td><td>1</td><td>1</td><td>1</td><td>0</td><td>0</td><td>0</td><td>0</td><td>⋯</td><td>0</td><td>0</td><td>0</td><td>0</td><td>0</td><td>0</td><td>0</td><td>0</td><td>0</td><td>1</td></tr>\n",
       "\t<tr><th scope=row>4</th><td>0</td><td>0</td><td>0</td><td>0</td><td>1</td><td>0</td><td>1</td><td>0</td><td>1</td><td>1</td><td>⋯</td><td>1</td><td>0</td><td>0</td><td>0</td><td>0</td><td>1</td><td>0</td><td>0</td><td>0</td><td>0</td></tr>\n",
       "\t<tr><th scope=row>5</th><td>0</td><td>0</td><td>0</td><td>0</td><td>0</td><td>0</td><td>0</td><td>0</td><td>0</td><td>1</td><td>⋯</td><td>0</td><td>1</td><td>0</td><td>0</td><td>0</td><td>1</td><td>0</td><td>0</td><td>0</td><td>1</td></tr>\n",
       "\t<tr><th scope=row>6</th><td>0</td><td>0</td><td>0</td><td>0</td><td>0</td><td>0</td><td>1</td><td>1</td><td>1</td><td>1</td><td>⋯</td><td>0</td><td>1</td><td>0</td><td>0</td><td>0</td><td>0</td><td>0</td><td>1</td><td>0</td><td>0</td></tr>\n",
       "</tbody>\n",
       "</table>\n"
      ],
      "text/latex": [
       "A data.frame: 6 × 35\n",
       "\\begin{tabular}{r|lllllllllllllllllllll}\n",
       "  & X1 & X2 & X3 & X4 & X5 & X6 & X7 & X15 & X16 & X0\\_0 & ⋯ & X13\\_2 & X13\\_3 & X13\\_4 & X14\\_0 & X14\\_1 & X17\\_1 & X17\\_2 & X17\\_3 & X17\\_4 & target\\\\\n",
       "  & <int> & <int> & <int> & <int> & <int> & <int> & <int> & <int> & <int> & <dbl> & ⋯ & <dbl> & <dbl> & <dbl> & <dbl> & <dbl> & <dbl> & <dbl> & <dbl> & <dbl> & <dbl>\\\\\n",
       "\\hline\n",
       "\t1 & 1 & 0 & 0 & 0 & 0 & 0 & 1 & 1 & 1 & 1 & ⋯ & 0 & 0 & 0 & 0 & 0 & 0 & 0 & 0 & 0 & 0\\\\\n",
       "\t2 & 1 & 0 & 0 & 1 & 1 & 0 & 1 & 1 & 1 & 0 & ⋯ & 0 & 0 & 0 & 0 & 0 & 0 & 0 & 1 & 0 & 0\\\\\n",
       "\t3 & 0 & 0 & 0 & 1 & 1 & 1 & 0 & 0 & 0 & 0 & ⋯ & 0 & 0 & 0 & 0 & 0 & 0 & 0 & 0 & 0 & 1\\\\\n",
       "\t4 & 0 & 0 & 0 & 0 & 1 & 0 & 1 & 0 & 1 & 1 & ⋯ & 1 & 0 & 0 & 0 & 0 & 1 & 0 & 0 & 0 & 0\\\\\n",
       "\t5 & 0 & 0 & 0 & 0 & 0 & 0 & 0 & 0 & 0 & 1 & ⋯ & 0 & 1 & 0 & 0 & 0 & 1 & 0 & 0 & 0 & 1\\\\\n",
       "\t6 & 0 & 0 & 0 & 0 & 0 & 0 & 1 & 1 & 1 & 1 & ⋯ & 0 & 1 & 0 & 0 & 0 & 0 & 0 & 1 & 0 & 0\\\\\n",
       "\\end{tabular}\n"
      ],
      "text/markdown": [
       "\n",
       "A data.frame: 6 × 35\n",
       "\n",
       "| <!--/--> | X1 &lt;int&gt; | X2 &lt;int&gt; | X3 &lt;int&gt; | X4 &lt;int&gt; | X5 &lt;int&gt; | X6 &lt;int&gt; | X7 &lt;int&gt; | X15 &lt;int&gt; | X16 &lt;int&gt; | X0_0 &lt;dbl&gt; | ⋯ ⋯ | X13_2 &lt;dbl&gt; | X13_3 &lt;dbl&gt; | X13_4 &lt;dbl&gt; | X14_0 &lt;dbl&gt; | X14_1 &lt;dbl&gt; | X17_1 &lt;dbl&gt; | X17_2 &lt;dbl&gt; | X17_3 &lt;dbl&gt; | X17_4 &lt;dbl&gt; | target &lt;dbl&gt; |\n",
       "|---|---|---|---|---|---|---|---|---|---|---|---|---|---|---|---|---|---|---|---|---|---|\n",
       "| 1 | 1 | 0 | 0 | 0 | 0 | 0 | 1 | 1 | 1 | 1 | ⋯ | 0 | 0 | 0 | 0 | 0 | 0 | 0 | 0 | 0 | 0 |\n",
       "| 2 | 1 | 0 | 0 | 1 | 1 | 0 | 1 | 1 | 1 | 0 | ⋯ | 0 | 0 | 0 | 0 | 0 | 0 | 0 | 1 | 0 | 0 |\n",
       "| 3 | 0 | 0 | 0 | 1 | 1 | 1 | 0 | 0 | 0 | 0 | ⋯ | 0 | 0 | 0 | 0 | 0 | 0 | 0 | 0 | 0 | 1 |\n",
       "| 4 | 0 | 0 | 0 | 0 | 1 | 0 | 1 | 0 | 1 | 1 | ⋯ | 1 | 0 | 0 | 0 | 0 | 1 | 0 | 0 | 0 | 0 |\n",
       "| 5 | 0 | 0 | 0 | 0 | 0 | 0 | 0 | 0 | 0 | 1 | ⋯ | 0 | 1 | 0 | 0 | 0 | 1 | 0 | 0 | 0 | 1 |\n",
       "| 6 | 0 | 0 | 0 | 0 | 0 | 0 | 1 | 1 | 1 | 1 | ⋯ | 0 | 1 | 0 | 0 | 0 | 0 | 0 | 1 | 0 | 0 |\n",
       "\n"
      ],
      "text/plain": [
       "  X1 X2 X3 X4 X5 X6 X7 X15 X16 X0_0 ⋯ X13_2 X13_3 X13_4 X14_0 X14_1 X17_1 X17_2\n",
       "1 1  0  0  0  0  0  1  1   1   1    ⋯ 0     0     0     0     0     0     0    \n",
       "2 1  0  0  1  1  0  1  1   1   0    ⋯ 0     0     0     0     0     0     0    \n",
       "3 0  0  0  1  1  1  0  0   0   0    ⋯ 0     0     0     0     0     0     0    \n",
       "4 0  0  0  0  1  0  1  0   1   1    ⋯ 1     0     0     0     0     1     0    \n",
       "5 0  0  0  0  0  0  0  0   0   1    ⋯ 0     1     0     0     0     1     0    \n",
       "6 0  0  0  0  0  0  1  1   1   1    ⋯ 0     1     0     0     0     0     0    \n",
       "  X17_3 X17_4 target\n",
       "1 0     0     0     \n",
       "2 1     0     0     \n",
       "3 0     0     1     \n",
       "4 0     0     0     \n",
       "5 0     0     1     \n",
       "6 1     0     0     "
      ]
     },
     "metadata": {},
     "output_type": "display_data"
    }
   ],
   "source": [
    "data %>% colnames\n",
    "\n",
    "data %>% select(target) -> target\n",
    "data %>% select(-target) -> data\n",
    "\n",
    "data %>% cbind(target) -> data\n",
    "\n",
    "data %>% head"
   ]
  },
  {
   "cell_type": "code",
   "execution_count": 24,
   "id": "48d2c9fe-308d-4680-b2e5-309589cf2ced",
   "metadata": {},
   "outputs": [
    {
     "data": {
      "text/html": [
       "<table class=\"dataframe\">\n",
       "<caption>A data.frame: 2 × 2</caption>\n",
       "<thead>\n",
       "\t<tr><th scope=col>target</th><th scope=col>n</th></tr>\n",
       "\t<tr><th scope=col>&lt;dbl&gt;</th><th scope=col>&lt;int&gt;</th></tr>\n",
       "</thead>\n",
       "<tbody>\n",
       "\t<tr><td>0</td><td>61</td></tr>\n",
       "\t<tr><td>1</td><td>87</td></tr>\n",
       "</tbody>\n",
       "</table>\n"
      ],
      "text/latex": [
       "A data.frame: 2 × 2\n",
       "\\begin{tabular}{ll}\n",
       " target & n\\\\\n",
       " <dbl> & <int>\\\\\n",
       "\\hline\n",
       "\t 0 & 61\\\\\n",
       "\t 1 & 87\\\\\n",
       "\\end{tabular}\n"
      ],
      "text/markdown": [
       "\n",
       "A data.frame: 2 × 2\n",
       "\n",
       "| target &lt;dbl&gt; | n &lt;int&gt; |\n",
       "|---|---|\n",
       "| 0 | 61 |\n",
       "| 1 | 87 |\n",
       "\n"
      ],
      "text/plain": [
       "  target n \n",
       "1 0      61\n",
       "2 1      87"
      ]
     },
     "metadata": {},
     "output_type": "display_data"
    }
   ],
   "source": [
    "data %>% count(target)"
   ]
  },
  {
   "cell_type": "code",
   "execution_count": 25,
   "id": "9a3b712c-1dcc-471e-949c-a7b68e2e49ed",
   "metadata": {},
   "outputs": [],
   "source": [
    "set.seed(123)  # for reproducibility\n",
    "\n",
    "data_0 <- data %>% filter(target == 0)\n",
    "data_1 <- data %>% filter(target == 1)\n",
    "\n",
    "n <- nrow(data_0)\n",
    "train_size_0 <- floor(0.7 * n)\n",
    "\n",
    "# Shuffle the rows first\n",
    "data_0 <- data_0 %>% slice_sample(prop = 1)\n",
    "\n",
    "# Split into training and testing\n",
    "train_df_0 <- data_0 %>% slice(1:train_size_0)\n",
    "test_df_0  <- data_0 %>% slice((train_size_0 + 1):n)"
   ]
  },
  {
   "cell_type": "code",
   "execution_count": 26,
   "id": "07a0b40f-9b59-4bb4-b549-0d144ccd0b32",
   "metadata": {},
   "outputs": [
    {
     "data": {
      "text/html": [
       "<style>\n",
       ".list-inline {list-style: none; margin:0; padding: 0}\n",
       ".list-inline>li {display: inline-block}\n",
       ".list-inline>li:not(:last-child)::after {content: \"\\00b7\"; padding: 0 .5ex}\n",
       "</style>\n",
       "<ol class=list-inline><li>102</li><li>35</li></ol>\n"
      ],
      "text/latex": [
       "\\begin{enumerate*}\n",
       "\\item 102\n",
       "\\item 35\n",
       "\\end{enumerate*}\n"
      ],
      "text/markdown": [
       "1. 102\n",
       "2. 35\n",
       "\n",
       "\n"
      ],
      "text/plain": [
       "[1] 102  35"
      ]
     },
     "metadata": {},
     "output_type": "display_data"
    },
    {
     "data": {
      "text/html": [
       "<table class=\"dataframe\">\n",
       "<caption>A data.frame: 2 × 2</caption>\n",
       "<thead>\n",
       "\t<tr><th scope=col>target</th><th scope=col>n</th></tr>\n",
       "\t<tr><th scope=col>&lt;dbl&gt;</th><th scope=col>&lt;int&gt;</th></tr>\n",
       "</thead>\n",
       "<tbody>\n",
       "\t<tr><td>0</td><td>42</td></tr>\n",
       "\t<tr><td>1</td><td>60</td></tr>\n",
       "</tbody>\n",
       "</table>\n"
      ],
      "text/latex": [
       "A data.frame: 2 × 2\n",
       "\\begin{tabular}{ll}\n",
       " target & n\\\\\n",
       " <dbl> & <int>\\\\\n",
       "\\hline\n",
       "\t 0 & 42\\\\\n",
       "\t 1 & 60\\\\\n",
       "\\end{tabular}\n"
      ],
      "text/markdown": [
       "\n",
       "A data.frame: 2 × 2\n",
       "\n",
       "| target &lt;dbl&gt; | n &lt;int&gt; |\n",
       "|---|---|\n",
       "| 0 | 42 |\n",
       "| 1 | 60 |\n",
       "\n"
      ],
      "text/plain": [
       "  target n \n",
       "1 0      42\n",
       "2 1      60"
      ]
     },
     "metadata": {},
     "output_type": "display_data"
    }
   ],
   "source": [
    "n <- nrow(data_1)\n",
    "train_size_1 <- floor(0.7 * n)\n",
    "\n",
    "# Shuffle the rows first\n",
    "data_1 <- data_1 %>% slice_sample(prop = 1)\n",
    "\n",
    "# Split into training and testing\n",
    "train_df_1 <- data_1 %>% slice(1:train_size_1)\n",
    "test_df_1  <- data_1 %>% slice((train_size_1 + 1):n)\n",
    "\n",
    "train <- train_df_1 %>% rbind(train_df_0)\n",
    "test <- test_df_1 %>% rbind(test_df_0)\n",
    "\n",
    "train %>% dim\n",
    "train %>% count(target)"
   ]
  },
  {
   "cell_type": "code",
   "execution_count": 27,
   "id": "0db31d51-fde6-4f48-9f34-52c3bfd2e451",
   "metadata": {},
   "outputs": [
    {
     "data": {
      "text/html": [
       "0.588235294117647"
      ],
      "text/latex": [
       "0.588235294117647"
      ],
      "text/markdown": [
       "0.588235294117647"
      ],
      "text/plain": [
       "[1] 0.5882353"
      ]
     },
     "metadata": {},
     "output_type": "display_data"
    }
   ],
   "source": [
    "60/102"
   ]
  },
  {
   "cell_type": "code",
   "execution_count": 28,
   "id": "4f1ef883-b1da-4be7-8b19-319c3ee19ac5",
   "metadata": {},
   "outputs": [
    {
     "data": {
      "text/html": [
       "<style>\n",
       ".list-inline {list-style: none; margin:0; padding: 0}\n",
       ".list-inline>li {display: inline-block}\n",
       ".list-inline>li:not(:last-child)::after {content: \"\\00b7\"; padding: 0 .5ex}\n",
       "</style>\n",
       "<ol class=list-inline><li>46</li><li>35</li></ol>\n"
      ],
      "text/latex": [
       "\\begin{enumerate*}\n",
       "\\item 46\n",
       "\\item 35\n",
       "\\end{enumerate*}\n"
      ],
      "text/markdown": [
       "1. 46\n",
       "2. 35\n",
       "\n",
       "\n"
      ],
      "text/plain": [
       "[1] 46 35"
      ]
     },
     "metadata": {},
     "output_type": "display_data"
    },
    {
     "data": {
      "text/html": [
       "<table class=\"dataframe\">\n",
       "<caption>A data.frame: 2 × 2</caption>\n",
       "<thead>\n",
       "\t<tr><th scope=col>target</th><th scope=col>n</th></tr>\n",
       "\t<tr><th scope=col>&lt;dbl&gt;</th><th scope=col>&lt;int&gt;</th></tr>\n",
       "</thead>\n",
       "<tbody>\n",
       "\t<tr><td>0</td><td>19</td></tr>\n",
       "\t<tr><td>1</td><td>27</td></tr>\n",
       "</tbody>\n",
       "</table>\n"
      ],
      "text/latex": [
       "A data.frame: 2 × 2\n",
       "\\begin{tabular}{ll}\n",
       " target & n\\\\\n",
       " <dbl> & <int>\\\\\n",
       "\\hline\n",
       "\t 0 & 19\\\\\n",
       "\t 1 & 27\\\\\n",
       "\\end{tabular}\n"
      ],
      "text/markdown": [
       "\n",
       "A data.frame: 2 × 2\n",
       "\n",
       "| target &lt;dbl&gt; | n &lt;int&gt; |\n",
       "|---|---|\n",
       "| 0 | 19 |\n",
       "| 1 | 27 |\n",
       "\n"
      ],
      "text/plain": [
       "  target n \n",
       "1 0      19\n",
       "2 1      27"
      ]
     },
     "metadata": {},
     "output_type": "display_data"
    }
   ],
   "source": [
    "test %>% dim\n",
    "test %>% count(target)"
   ]
  },
  {
   "cell_type": "code",
   "execution_count": null,
   "id": "0c5c9c85-fdc9-4d1a-85b9-347b37d18870",
   "metadata": {},
   "outputs": [],
   "source": []
  },
  {
   "cell_type": "code",
   "execution_count": 79,
   "id": "bad5b5d2-4767-44e4-84df-8a7a6b385293",
   "metadata": {},
   "outputs": [],
   "source": [
    "dir.create(\"lymph\")\n",
    "setwd(\"lymph\")\n",
    "\n",
    "train %>% write_csv('lymph_train.csv') \n",
    "test %>% write_csv('lymph_test.csv') "
   ]
  },
  {
   "cell_type": "code",
   "execution_count": 31,
   "id": "98ce3bac-ea19-46da-9423-bc1e8db4f956",
   "metadata": {},
   "outputs": [
    {
     "data": {
      "text/html": [
       "<style>\n",
       ".list-inline {list-style: none; margin:0; padding: 0}\n",
       ".list-inline>li {display: inline-block}\n",
       ".list-inline>li:not(:last-child)::after {content: \"\\00b7\"; padding: 0 .5ex}\n",
       "</style>\n",
       "<ol class=list-inline><li>294</li><li>14</li></ol>\n"
      ],
      "text/latex": [
       "\\begin{enumerate*}\n",
       "\\item 294\n",
       "\\item 14\n",
       "\\end{enumerate*}\n"
      ],
      "text/markdown": [
       "1. 294\n",
       "2. 14\n",
       "\n",
       "\n"
      ],
      "text/plain": [
       "[1] 294  14"
      ]
     },
     "metadata": {},
     "output_type": "display_data"
    },
    {
     "data": {
      "text/html": [
       "<table class=\"dataframe\">\n",
       "<caption>A data.frame: 6 × 14</caption>\n",
       "<thead>\n",
       "\t<tr><th></th><th scope=col>X0</th><th scope=col>X1</th><th scope=col>X2</th><th scope=col>X3</th><th scope=col>X4</th><th scope=col>X5</th><th scope=col>X6</th><th scope=col>X7</th><th scope=col>X8</th><th scope=col>X9</th><th scope=col>X10</th><th scope=col>X11</th><th scope=col>X12</th><th scope=col>target</th></tr>\n",
       "\t<tr><th></th><th scope=col>&lt;dbl&gt;</th><th scope=col>&lt;int&gt;</th><th scope=col>&lt;int&gt;</th><th scope=col>&lt;dbl&gt;</th><th scope=col>&lt;dbl&gt;</th><th scope=col>&lt;int&gt;</th><th scope=col>&lt;int&gt;</th><th scope=col>&lt;dbl&gt;</th><th scope=col>&lt;int&gt;</th><th scope=col>&lt;dbl&gt;</th><th scope=col>&lt;int&gt;</th><th scope=col>&lt;dbl&gt;</th><th scope=col>&lt;int&gt;</th><th scope=col>&lt;int&gt;</th></tr>\n",
       "</thead>\n",
       "<tbody>\n",
       "\t<tr><th scope=row>1</th><td>28</td><td>1</td><td>1</td><td>130</td><td>132</td><td>0</td><td>0</td><td>185</td><td>0</td><td>0</td><td>3</td><td>NA</td><td>3</td><td>0</td></tr>\n",
       "\t<tr><th scope=row>2</th><td>29</td><td>1</td><td>1</td><td>120</td><td>243</td><td>0</td><td>1</td><td>160</td><td>0</td><td>0</td><td>3</td><td>NA</td><td>3</td><td>0</td></tr>\n",
       "\t<tr><th scope=row>3</th><td>29</td><td>1</td><td>1</td><td>140</td><td> NA</td><td>0</td><td>1</td><td>170</td><td>0</td><td>0</td><td>3</td><td>NA</td><td>3</td><td>0</td></tr>\n",
       "\t<tr><th scope=row>4</th><td>30</td><td>0</td><td>3</td><td>170</td><td>237</td><td>0</td><td>2</td><td>170</td><td>0</td><td>0</td><td>3</td><td>NA</td><td>0</td><td>0</td></tr>\n",
       "\t<tr><th scope=row>5</th><td>31</td><td>0</td><td>1</td><td>100</td><td>219</td><td>0</td><td>2</td><td>150</td><td>0</td><td>0</td><td>3</td><td>NA</td><td>3</td><td>0</td></tr>\n",
       "\t<tr><th scope=row>6</th><td>32</td><td>0</td><td>1</td><td>105</td><td>198</td><td>0</td><td>1</td><td>165</td><td>0</td><td>0</td><td>3</td><td>NA</td><td>3</td><td>0</td></tr>\n",
       "</tbody>\n",
       "</table>\n"
      ],
      "text/latex": [
       "A data.frame: 6 × 14\n",
       "\\begin{tabular}{r|llllllllllllll}\n",
       "  & X0 & X1 & X2 & X3 & X4 & X5 & X6 & X7 & X8 & X9 & X10 & X11 & X12 & target\\\\\n",
       "  & <dbl> & <int> & <int> & <dbl> & <dbl> & <int> & <int> & <dbl> & <int> & <dbl> & <int> & <dbl> & <int> & <int>\\\\\n",
       "\\hline\n",
       "\t1 & 28 & 1 & 1 & 130 & 132 & 0 & 0 & 185 & 0 & 0 & 3 & NA & 3 & 0\\\\\n",
       "\t2 & 29 & 1 & 1 & 120 & 243 & 0 & 1 & 160 & 0 & 0 & 3 & NA & 3 & 0\\\\\n",
       "\t3 & 29 & 1 & 1 & 140 &  NA & 0 & 1 & 170 & 0 & 0 & 3 & NA & 3 & 0\\\\\n",
       "\t4 & 30 & 0 & 3 & 170 & 237 & 0 & 2 & 170 & 0 & 0 & 3 & NA & 0 & 0\\\\\n",
       "\t5 & 31 & 0 & 1 & 100 & 219 & 0 & 2 & 150 & 0 & 0 & 3 & NA & 3 & 0\\\\\n",
       "\t6 & 32 & 0 & 1 & 105 & 198 & 0 & 1 & 165 & 0 & 0 & 3 & NA & 3 & 0\\\\\n",
       "\\end{tabular}\n"
      ],
      "text/markdown": [
       "\n",
       "A data.frame: 6 × 14\n",
       "\n",
       "| <!--/--> | X0 &lt;dbl&gt; | X1 &lt;int&gt; | X2 &lt;int&gt; | X3 &lt;dbl&gt; | X4 &lt;dbl&gt; | X5 &lt;int&gt; | X6 &lt;int&gt; | X7 &lt;dbl&gt; | X8 &lt;int&gt; | X9 &lt;dbl&gt; | X10 &lt;int&gt; | X11 &lt;dbl&gt; | X12 &lt;int&gt; | target &lt;int&gt; |\n",
       "|---|---|---|---|---|---|---|---|---|---|---|---|---|---|---|\n",
       "| 1 | 28 | 1 | 1 | 130 | 132 | 0 | 0 | 185 | 0 | 0 | 3 | NA | 3 | 0 |\n",
       "| 2 | 29 | 1 | 1 | 120 | 243 | 0 | 1 | 160 | 0 | 0 | 3 | NA | 3 | 0 |\n",
       "| 3 | 29 | 1 | 1 | 140 |  NA | 0 | 1 | 170 | 0 | 0 | 3 | NA | 3 | 0 |\n",
       "| 4 | 30 | 0 | 3 | 170 | 237 | 0 | 2 | 170 | 0 | 0 | 3 | NA | 0 | 0 |\n",
       "| 5 | 31 | 0 | 1 | 100 | 219 | 0 | 2 | 150 | 0 | 0 | 3 | NA | 3 | 0 |\n",
       "| 6 | 32 | 0 | 1 | 105 | 198 | 0 | 1 | 165 | 0 | 0 | 3 | NA | 3 | 0 |\n",
       "\n"
      ],
      "text/plain": [
       "  X0 X1 X2 X3  X4  X5 X6 X7  X8 X9 X10 X11 X12 target\n",
       "1 28 1  1  130 132 0  0  185 0  0  3   NA  3   0     \n",
       "2 29 1  1  120 243 0  1  160 0  0  3   NA  3   0     \n",
       "3 29 1  1  140  NA 0  1  170 0  0  3   NA  3   0     \n",
       "4 30 0  3  170 237 0  2  170 0  0  3   NA  0   0     \n",
       "5 31 0  1  100 219 0  2  150 0  0  3   NA  3   0     \n",
       "6 32 0  1  105 198 0  1  165 0  0  3   NA  3   0     "
      ]
     },
     "metadata": {},
     "output_type": "display_data"
    }
   ],
   "source": [
    "setwd(original_dir)\n",
    "\n",
    "data <- read.csv('openml__heart-h__50.csv')\n",
    "data %>% dim \n",
    "data %>% head"
   ]
  },
  {
   "cell_type": "code",
   "execution_count": 33,
   "id": "667f5db5-8d4b-445d-85a3-5cdb29e122ad",
   "metadata": {},
   "outputs": [
    {
     "data": {
      "text/html": [
       "<table class=\"dataframe\">\n",
       "<caption>A data.frame: 2 × 2</caption>\n",
       "<thead>\n",
       "\t<tr><th scope=col>X11</th><th scope=col>n</th></tr>\n",
       "\t<tr><th scope=col>&lt;dbl&gt;</th><th scope=col>&lt;int&gt;</th></tr>\n",
       "</thead>\n",
       "<tbody>\n",
       "\t<tr><td> 0</td><td>  3</td></tr>\n",
       "\t<tr><td>NA</td><td>291</td></tr>\n",
       "</tbody>\n",
       "</table>\n"
      ],
      "text/latex": [
       "A data.frame: 2 × 2\n",
       "\\begin{tabular}{ll}\n",
       " X11 & n\\\\\n",
       " <dbl> & <int>\\\\\n",
       "\\hline\n",
       "\t  0 &   3\\\\\n",
       "\t NA & 291\\\\\n",
       "\\end{tabular}\n"
      ],
      "text/markdown": [
       "\n",
       "A data.frame: 2 × 2\n",
       "\n",
       "| X11 &lt;dbl&gt; | n &lt;int&gt; |\n",
       "|---|---|\n",
       "|  0 |   3 |\n",
       "| NA | 291 |\n",
       "\n"
      ],
      "text/plain": [
       "  X11 n  \n",
       "1  0    3\n",
       "2 NA  291"
      ]
     },
     "metadata": {},
     "output_type": "display_data"
    }
   ],
   "source": [
    "data %>% count(X11)"
   ]
  },
  {
   "cell_type": "code",
   "execution_count": 34,
   "id": "887ef2d8-a122-4e19-8e4d-b983dc76bb97",
   "metadata": {},
   "outputs": [
    {
     "data": {
      "text/html": [
       "<table class=\"dataframe\">\n",
       "<caption>A data.frame: 4 × 2</caption>\n",
       "<thead>\n",
       "\t<tr><th scope=col>X2</th><th scope=col>n</th></tr>\n",
       "\t<tr><th scope=col>&lt;int&gt;</th><th scope=col>&lt;int&gt;</th></tr>\n",
       "</thead>\n",
       "<tbody>\n",
       "\t<tr><td>0</td><td>123</td></tr>\n",
       "\t<tr><td>1</td><td>106</td></tr>\n",
       "\t<tr><td>2</td><td> 54</td></tr>\n",
       "\t<tr><td>3</td><td> 11</td></tr>\n",
       "</tbody>\n",
       "</table>\n"
      ],
      "text/latex": [
       "A data.frame: 4 × 2\n",
       "\\begin{tabular}{ll}\n",
       " X2 & n\\\\\n",
       " <int> & <int>\\\\\n",
       "\\hline\n",
       "\t 0 & 123\\\\\n",
       "\t 1 & 106\\\\\n",
       "\t 2 &  54\\\\\n",
       "\t 3 &  11\\\\\n",
       "\\end{tabular}\n"
      ],
      "text/markdown": [
       "\n",
       "A data.frame: 4 × 2\n",
       "\n",
       "| X2 &lt;int&gt; | n &lt;int&gt; |\n",
       "|---|---|\n",
       "| 0 | 123 |\n",
       "| 1 | 106 |\n",
       "| 2 |  54 |\n",
       "| 3 |  11 |\n",
       "\n"
      ],
      "text/plain": [
       "  X2 n  \n",
       "1 0  123\n",
       "2 1  106\n",
       "3 2   54\n",
       "4 3   11"
      ]
     },
     "metadata": {},
     "output_type": "display_data"
    },
    {
     "data": {
      "text/html": [
       "<table class=\"dataframe\">\n",
       "<caption>A data.frame: 6 × 4</caption>\n",
       "<thead>\n",
       "\t<tr><th></th><th scope=col>X2</th><th scope=col>X2_1</th><th scope=col>X2_2</th><th scope=col>X2_0</th></tr>\n",
       "\t<tr><th></th><th scope=col>&lt;int&gt;</th><th scope=col>&lt;dbl&gt;</th><th scope=col>&lt;dbl&gt;</th><th scope=col>&lt;dbl&gt;</th></tr>\n",
       "</thead>\n",
       "<tbody>\n",
       "\t<tr><th scope=row>1</th><td>1</td><td>1</td><td>0</td><td>0</td></tr>\n",
       "\t<tr><th scope=row>2</th><td>1</td><td>1</td><td>0</td><td>0</td></tr>\n",
       "\t<tr><th scope=row>3</th><td>1</td><td>1</td><td>0</td><td>0</td></tr>\n",
       "\t<tr><th scope=row>4</th><td>3</td><td>0</td><td>0</td><td>0</td></tr>\n",
       "\t<tr><th scope=row>5</th><td>1</td><td>1</td><td>0</td><td>0</td></tr>\n",
       "\t<tr><th scope=row>6</th><td>1</td><td>1</td><td>0</td><td>0</td></tr>\n",
       "</tbody>\n",
       "</table>\n"
      ],
      "text/latex": [
       "A data.frame: 6 × 4\n",
       "\\begin{tabular}{r|llll}\n",
       "  & X2 & X2\\_1 & X2\\_2 & X2\\_0\\\\\n",
       "  & <int> & <dbl> & <dbl> & <dbl>\\\\\n",
       "\\hline\n",
       "\t1 & 1 & 1 & 0 & 0\\\\\n",
       "\t2 & 1 & 1 & 0 & 0\\\\\n",
       "\t3 & 1 & 1 & 0 & 0\\\\\n",
       "\t4 & 3 & 0 & 0 & 0\\\\\n",
       "\t5 & 1 & 1 & 0 & 0\\\\\n",
       "\t6 & 1 & 1 & 0 & 0\\\\\n",
       "\\end{tabular}\n"
      ],
      "text/markdown": [
       "\n",
       "A data.frame: 6 × 4\n",
       "\n",
       "| <!--/--> | X2 &lt;int&gt; | X2_1 &lt;dbl&gt; | X2_2 &lt;dbl&gt; | X2_0 &lt;dbl&gt; |\n",
       "|---|---|---|---|---|\n",
       "| 1 | 1 | 1 | 0 | 0 |\n",
       "| 2 | 1 | 1 | 0 | 0 |\n",
       "| 3 | 1 | 1 | 0 | 0 |\n",
       "| 4 | 3 | 0 | 0 | 0 |\n",
       "| 5 | 1 | 1 | 0 | 0 |\n",
       "| 6 | 1 | 1 | 0 | 0 |\n",
       "\n"
      ],
      "text/plain": [
       "  X2 X2_1 X2_2 X2_0\n",
       "1 1  1    0    0   \n",
       "2 1  1    0    0   \n",
       "3 1  1    0    0   \n",
       "4 3  0    0    0   \n",
       "5 1  1    0    0   \n",
       "6 1  1    0    0   "
      ]
     },
     "metadata": {},
     "output_type": "display_data"
    }
   ],
   "source": [
    "data %>% count(X2)\n",
    "\n",
    "data <- data %>%\n",
    "  mutate(X2_0 = ifelse(X2 == 0, 1, 0))\n",
    "\n",
    "data <- data %>%\n",
    "  mutate(X2_1 = ifelse(X2 == 1, 1, 0))\n",
    "\n",
    "data <- data %>%\n",
    "  mutate(X2_2 = ifelse(X2 == 2, 1, 0))\n",
    "\n",
    "data %>% select(X2, X2_1, X2_2, X2_0) %>% head\n",
    "\n",
    "data %>% select(-X2) -> data"
   ]
  },
  {
   "cell_type": "code",
   "execution_count": 35,
   "id": "8e68942a-d834-44d5-83e3-e088b5d835eb",
   "metadata": {},
   "outputs": [
    {
     "data": {
      "text/html": [
       "<table class=\"dataframe\">\n",
       "<caption>A data.frame: 3 × 2</caption>\n",
       "<thead>\n",
       "\t<tr><th scope=col>X5</th><th scope=col>n</th></tr>\n",
       "\t<tr><th scope=col>&lt;int&gt;</th><th scope=col>&lt;int&gt;</th></tr>\n",
       "</thead>\n",
       "<tbody>\n",
       "\t<tr><td>0</td><td>266</td></tr>\n",
       "\t<tr><td>1</td><td> 20</td></tr>\n",
       "\t<tr><td>2</td><td>  8</td></tr>\n",
       "</tbody>\n",
       "</table>\n"
      ],
      "text/latex": [
       "A data.frame: 3 × 2\n",
       "\\begin{tabular}{ll}\n",
       " X5 & n\\\\\n",
       " <int> & <int>\\\\\n",
       "\\hline\n",
       "\t 0 & 266\\\\\n",
       "\t 1 &  20\\\\\n",
       "\t 2 &   8\\\\\n",
       "\\end{tabular}\n"
      ],
      "text/markdown": [
       "\n",
       "A data.frame: 3 × 2\n",
       "\n",
       "| X5 &lt;int&gt; | n &lt;int&gt; |\n",
       "|---|---|\n",
       "| 0 | 266 |\n",
       "| 1 |  20 |\n",
       "| 2 |   8 |\n",
       "\n"
      ],
      "text/plain": [
       "  X5 n  \n",
       "1 0  266\n",
       "2 1   20\n",
       "3 2    8"
      ]
     },
     "metadata": {},
     "output_type": "display_data"
    },
    {
     "data": {
      "text/html": [
       "<table class=\"dataframe\">\n",
       "<caption>A data.frame: 6 × 3</caption>\n",
       "<thead>\n",
       "\t<tr><th></th><th scope=col>X5</th><th scope=col>X5_1</th><th scope=col>X5_0</th></tr>\n",
       "\t<tr><th></th><th scope=col>&lt;int&gt;</th><th scope=col>&lt;dbl&gt;</th><th scope=col>&lt;dbl&gt;</th></tr>\n",
       "</thead>\n",
       "<tbody>\n",
       "\t<tr><th scope=row>1</th><td>0</td><td>0</td><td>1</td></tr>\n",
       "\t<tr><th scope=row>2</th><td>0</td><td>0</td><td>1</td></tr>\n",
       "\t<tr><th scope=row>3</th><td>0</td><td>0</td><td>1</td></tr>\n",
       "\t<tr><th scope=row>4</th><td>0</td><td>0</td><td>1</td></tr>\n",
       "\t<tr><th scope=row>5</th><td>0</td><td>0</td><td>1</td></tr>\n",
       "\t<tr><th scope=row>6</th><td>0</td><td>0</td><td>1</td></tr>\n",
       "</tbody>\n",
       "</table>\n"
      ],
      "text/latex": [
       "A data.frame: 6 × 3\n",
       "\\begin{tabular}{r|lll}\n",
       "  & X5 & X5\\_1 & X5\\_0\\\\\n",
       "  & <int> & <dbl> & <dbl>\\\\\n",
       "\\hline\n",
       "\t1 & 0 & 0 & 1\\\\\n",
       "\t2 & 0 & 0 & 1\\\\\n",
       "\t3 & 0 & 0 & 1\\\\\n",
       "\t4 & 0 & 0 & 1\\\\\n",
       "\t5 & 0 & 0 & 1\\\\\n",
       "\t6 & 0 & 0 & 1\\\\\n",
       "\\end{tabular}\n"
      ],
      "text/markdown": [
       "\n",
       "A data.frame: 6 × 3\n",
       "\n",
       "| <!--/--> | X5 &lt;int&gt; | X5_1 &lt;dbl&gt; | X5_0 &lt;dbl&gt; |\n",
       "|---|---|---|---|\n",
       "| 1 | 0 | 0 | 1 |\n",
       "| 2 | 0 | 0 | 1 |\n",
       "| 3 | 0 | 0 | 1 |\n",
       "| 4 | 0 | 0 | 1 |\n",
       "| 5 | 0 | 0 | 1 |\n",
       "| 6 | 0 | 0 | 1 |\n",
       "\n"
      ],
      "text/plain": [
       "  X5 X5_1 X5_0\n",
       "1 0  0    1   \n",
       "2 0  0    1   \n",
       "3 0  0    1   \n",
       "4 0  0    1   \n",
       "5 0  0    1   \n",
       "6 0  0    1   "
      ]
     },
     "metadata": {},
     "output_type": "display_data"
    }
   ],
   "source": [
    "data %>% count(X5)\n",
    "\n",
    "data <- data %>%\n",
    "  mutate(X5_0 = ifelse(X5 == 0, 1, 0))\n",
    "\n",
    "data <- data %>%\n",
    "  mutate(X5_1 = ifelse(X5 == 1, 1, 0))\n",
    "\n",
    "data %>% select(X5, X5_1, X5_0) %>% head\n",
    "\n",
    "data %>% select(-X5) -> data"
   ]
  },
  {
   "cell_type": "code",
   "execution_count": 36,
   "id": "d77361a1-3f00-4987-befb-7e625a88e8ce",
   "metadata": {},
   "outputs": [
    {
     "data": {
      "text/html": [
       "<table class=\"dataframe\">\n",
       "<caption>A data.frame: 4 × 2</caption>\n",
       "<thead>\n",
       "\t<tr><th scope=col>X6</th><th scope=col>n</th></tr>\n",
       "\t<tr><th scope=col>&lt;int&gt;</th><th scope=col>&lt;int&gt;</th></tr>\n",
       "</thead>\n",
       "<tbody>\n",
       "\t<tr><td>0</td><td>  6</td></tr>\n",
       "\t<tr><td>1</td><td>235</td></tr>\n",
       "\t<tr><td>2</td><td> 52</td></tr>\n",
       "\t<tr><td>3</td><td>  1</td></tr>\n",
       "</tbody>\n",
       "</table>\n"
      ],
      "text/latex": [
       "A data.frame: 4 × 2\n",
       "\\begin{tabular}{ll}\n",
       " X6 & n\\\\\n",
       " <int> & <int>\\\\\n",
       "\\hline\n",
       "\t 0 &   6\\\\\n",
       "\t 1 & 235\\\\\n",
       "\t 2 &  52\\\\\n",
       "\t 3 &   1\\\\\n",
       "\\end{tabular}\n"
      ],
      "text/markdown": [
       "\n",
       "A data.frame: 4 × 2\n",
       "\n",
       "| X6 &lt;int&gt; | n &lt;int&gt; |\n",
       "|---|---|\n",
       "| 0 |   6 |\n",
       "| 1 | 235 |\n",
       "| 2 |  52 |\n",
       "| 3 |   1 |\n",
       "\n"
      ],
      "text/plain": [
       "  X6 n  \n",
       "1 0    6\n",
       "2 1  235\n",
       "3 2   52\n",
       "4 3    1"
      ]
     },
     "metadata": {},
     "output_type": "display_data"
    },
    {
     "data": {
      "text/html": [
       "<table class=\"dataframe\">\n",
       "<caption>A data.frame: 6 × 3</caption>\n",
       "<thead>\n",
       "\t<tr><th></th><th scope=col>X6</th><th scope=col>X6_1</th><th scope=col>X6_2</th></tr>\n",
       "\t<tr><th></th><th scope=col>&lt;int&gt;</th><th scope=col>&lt;dbl&gt;</th><th scope=col>&lt;dbl&gt;</th></tr>\n",
       "</thead>\n",
       "<tbody>\n",
       "\t<tr><th scope=row>1</th><td>0</td><td>0</td><td>0</td></tr>\n",
       "\t<tr><th scope=row>2</th><td>1</td><td>1</td><td>0</td></tr>\n",
       "\t<tr><th scope=row>3</th><td>1</td><td>1</td><td>0</td></tr>\n",
       "\t<tr><th scope=row>4</th><td>2</td><td>0</td><td>1</td></tr>\n",
       "\t<tr><th scope=row>5</th><td>2</td><td>0</td><td>1</td></tr>\n",
       "\t<tr><th scope=row>6</th><td>1</td><td>1</td><td>0</td></tr>\n",
       "</tbody>\n",
       "</table>\n"
      ],
      "text/latex": [
       "A data.frame: 6 × 3\n",
       "\\begin{tabular}{r|lll}\n",
       "  & X6 & X6\\_1 & X6\\_2\\\\\n",
       "  & <int> & <dbl> & <dbl>\\\\\n",
       "\\hline\n",
       "\t1 & 0 & 0 & 0\\\\\n",
       "\t2 & 1 & 1 & 0\\\\\n",
       "\t3 & 1 & 1 & 0\\\\\n",
       "\t4 & 2 & 0 & 1\\\\\n",
       "\t5 & 2 & 0 & 1\\\\\n",
       "\t6 & 1 & 1 & 0\\\\\n",
       "\\end{tabular}\n"
      ],
      "text/markdown": [
       "\n",
       "A data.frame: 6 × 3\n",
       "\n",
       "| <!--/--> | X6 &lt;int&gt; | X6_1 &lt;dbl&gt; | X6_2 &lt;dbl&gt; |\n",
       "|---|---|---|---|\n",
       "| 1 | 0 | 0 | 0 |\n",
       "| 2 | 1 | 1 | 0 |\n",
       "| 3 | 1 | 1 | 0 |\n",
       "| 4 | 2 | 0 | 1 |\n",
       "| 5 | 2 | 0 | 1 |\n",
       "| 6 | 1 | 1 | 0 |\n",
       "\n"
      ],
      "text/plain": [
       "  X6 X6_1 X6_2\n",
       "1 0  0    0   \n",
       "2 1  1    0   \n",
       "3 1  1    0   \n",
       "4 2  0    1   \n",
       "5 2  0    1   \n",
       "6 1  1    0   "
      ]
     },
     "metadata": {},
     "output_type": "display_data"
    }
   ],
   "source": [
    "data %>% count(X6)\n",
    "\n",
    "data <- data %>%\n",
    "  mutate(X6_1 = ifelse(X6 == 1, 1, 0))\n",
    "\n",
    "data <- data %>%\n",
    "  mutate(X6_2 = ifelse(X6 == 2, 1, 0))\n",
    "\n",
    "data %>% select(X6, X6_1, X6_2) %>% head\n",
    "\n",
    "data %>% select(-X6) -> data"
   ]
  },
  {
   "cell_type": "code",
   "execution_count": 37,
   "id": "46b1f007-a973-4c69-8d10-b90a63222869",
   "metadata": {},
   "outputs": [
    {
     "data": {
      "text/html": [
       "<table class=\"dataframe\">\n",
       "<caption>A data.frame: 3 × 2</caption>\n",
       "<thead>\n",
       "\t<tr><th scope=col>X8</th><th scope=col>n</th></tr>\n",
       "\t<tr><th scope=col>&lt;int&gt;</th><th scope=col>&lt;int&gt;</th></tr>\n",
       "</thead>\n",
       "<tbody>\n",
       "\t<tr><td>0</td><td>204</td></tr>\n",
       "\t<tr><td>1</td><td> 89</td></tr>\n",
       "\t<tr><td>2</td><td>  1</td></tr>\n",
       "</tbody>\n",
       "</table>\n"
      ],
      "text/latex": [
       "A data.frame: 3 × 2\n",
       "\\begin{tabular}{ll}\n",
       " X8 & n\\\\\n",
       " <int> & <int>\\\\\n",
       "\\hline\n",
       "\t 0 & 204\\\\\n",
       "\t 1 &  89\\\\\n",
       "\t 2 &   1\\\\\n",
       "\\end{tabular}\n"
      ],
      "text/markdown": [
       "\n",
       "A data.frame: 3 × 2\n",
       "\n",
       "| X8 &lt;int&gt; | n &lt;int&gt; |\n",
       "|---|---|\n",
       "| 0 | 204 |\n",
       "| 1 |  89 |\n",
       "| 2 |   1 |\n",
       "\n"
      ],
      "text/plain": [
       "  X8 n  \n",
       "1 0  204\n",
       "2 1   89\n",
       "3 2    1"
      ]
     },
     "metadata": {},
     "output_type": "display_data"
    },
    {
     "data": {
      "text/html": [
       "<table class=\"dataframe\">\n",
       "<caption>A data.frame: 6 × 3</caption>\n",
       "<thead>\n",
       "\t<tr><th></th><th scope=col>X8</th><th scope=col>X8_1</th><th scope=col>X8_0</th></tr>\n",
       "\t<tr><th></th><th scope=col>&lt;int&gt;</th><th scope=col>&lt;dbl&gt;</th><th scope=col>&lt;dbl&gt;</th></tr>\n",
       "</thead>\n",
       "<tbody>\n",
       "\t<tr><th scope=row>1</th><td>0</td><td>0</td><td>1</td></tr>\n",
       "\t<tr><th scope=row>2</th><td>0</td><td>0</td><td>1</td></tr>\n",
       "\t<tr><th scope=row>3</th><td>0</td><td>0</td><td>1</td></tr>\n",
       "\t<tr><th scope=row>4</th><td>0</td><td>0</td><td>1</td></tr>\n",
       "\t<tr><th scope=row>5</th><td>0</td><td>0</td><td>1</td></tr>\n",
       "\t<tr><th scope=row>6</th><td>0</td><td>0</td><td>1</td></tr>\n",
       "</tbody>\n",
       "</table>\n"
      ],
      "text/latex": [
       "A data.frame: 6 × 3\n",
       "\\begin{tabular}{r|lll}\n",
       "  & X8 & X8\\_1 & X8\\_0\\\\\n",
       "  & <int> & <dbl> & <dbl>\\\\\n",
       "\\hline\n",
       "\t1 & 0 & 0 & 1\\\\\n",
       "\t2 & 0 & 0 & 1\\\\\n",
       "\t3 & 0 & 0 & 1\\\\\n",
       "\t4 & 0 & 0 & 1\\\\\n",
       "\t5 & 0 & 0 & 1\\\\\n",
       "\t6 & 0 & 0 & 1\\\\\n",
       "\\end{tabular}\n"
      ],
      "text/markdown": [
       "\n",
       "A data.frame: 6 × 3\n",
       "\n",
       "| <!--/--> | X8 &lt;int&gt; | X8_1 &lt;dbl&gt; | X8_0 &lt;dbl&gt; |\n",
       "|---|---|---|---|\n",
       "| 1 | 0 | 0 | 1 |\n",
       "| 2 | 0 | 0 | 1 |\n",
       "| 3 | 0 | 0 | 1 |\n",
       "| 4 | 0 | 0 | 1 |\n",
       "| 5 | 0 | 0 | 1 |\n",
       "| 6 | 0 | 0 | 1 |\n",
       "\n"
      ],
      "text/plain": [
       "  X8 X8_1 X8_0\n",
       "1 0  0    1   \n",
       "2 0  0    1   \n",
       "3 0  0    1   \n",
       "4 0  0    1   \n",
       "5 0  0    1   \n",
       "6 0  0    1   "
      ]
     },
     "metadata": {},
     "output_type": "display_data"
    }
   ],
   "source": [
    "data %>% count(X8)\n",
    "\n",
    "data <- data %>%\n",
    "  mutate(X8_1 = ifelse(X8 == 1, 1, 0))\n",
    "\n",
    "data <- data %>%\n",
    "  mutate(X8_0 = ifelse(X8 == 0, 1, 0))\n",
    "\n",
    "data %>% select(X8, X8_1, X8_0) %>% head\n",
    "\n",
    "data %>% select(-X8) -> data"
   ]
  },
  {
   "cell_type": "code",
   "execution_count": 38,
   "id": "fda55681-3b92-4098-809b-0b6d4ec84f56",
   "metadata": {},
   "outputs": [
    {
     "data": {
      "text/html": [
       "<table class=\"dataframe\">\n",
       "<caption>A data.frame: 4 × 2</caption>\n",
       "<thead>\n",
       "\t<tr><th scope=col>X10</th><th scope=col>n</th></tr>\n",
       "\t<tr><th scope=col>&lt;int&gt;</th><th scope=col>&lt;int&gt;</th></tr>\n",
       "</thead>\n",
       "<tbody>\n",
       "\t<tr><td>0</td><td>  1</td></tr>\n",
       "\t<tr><td>1</td><td> 91</td></tr>\n",
       "\t<tr><td>2</td><td> 12</td></tr>\n",
       "\t<tr><td>3</td><td>190</td></tr>\n",
       "</tbody>\n",
       "</table>\n"
      ],
      "text/latex": [
       "A data.frame: 4 × 2\n",
       "\\begin{tabular}{ll}\n",
       " X10 & n\\\\\n",
       " <int> & <int>\\\\\n",
       "\\hline\n",
       "\t 0 &   1\\\\\n",
       "\t 1 &  91\\\\\n",
       "\t 2 &  12\\\\\n",
       "\t 3 & 190\\\\\n",
       "\\end{tabular}\n"
      ],
      "text/markdown": [
       "\n",
       "A data.frame: 4 × 2\n",
       "\n",
       "| X10 &lt;int&gt; | n &lt;int&gt; |\n",
       "|---|---|\n",
       "| 0 |   1 |\n",
       "| 1 |  91 |\n",
       "| 2 |  12 |\n",
       "| 3 | 190 |\n",
       "\n"
      ],
      "text/plain": [
       "  X10 n  \n",
       "1 0     1\n",
       "2 1    91\n",
       "3 2    12\n",
       "4 3   190"
      ]
     },
     "metadata": {},
     "output_type": "display_data"
    },
    {
     "data": {
      "text/html": [
       "<table class=\"dataframe\">\n",
       "<caption>A data.frame: 6 × 4</caption>\n",
       "<thead>\n",
       "\t<tr><th></th><th scope=col>X10</th><th scope=col>X10_1</th><th scope=col>X10_2</th><th scope=col>X10_3</th></tr>\n",
       "\t<tr><th></th><th scope=col>&lt;int&gt;</th><th scope=col>&lt;dbl&gt;</th><th scope=col>&lt;dbl&gt;</th><th scope=col>&lt;dbl&gt;</th></tr>\n",
       "</thead>\n",
       "<tbody>\n",
       "\t<tr><th scope=row>1</th><td>3</td><td>0</td><td>0</td><td>1</td></tr>\n",
       "\t<tr><th scope=row>2</th><td>3</td><td>0</td><td>0</td><td>1</td></tr>\n",
       "\t<tr><th scope=row>3</th><td>3</td><td>0</td><td>0</td><td>1</td></tr>\n",
       "\t<tr><th scope=row>4</th><td>3</td><td>0</td><td>0</td><td>1</td></tr>\n",
       "\t<tr><th scope=row>5</th><td>3</td><td>0</td><td>0</td><td>1</td></tr>\n",
       "\t<tr><th scope=row>6</th><td>3</td><td>0</td><td>0</td><td>1</td></tr>\n",
       "</tbody>\n",
       "</table>\n"
      ],
      "text/latex": [
       "A data.frame: 6 × 4\n",
       "\\begin{tabular}{r|llll}\n",
       "  & X10 & X10\\_1 & X10\\_2 & X10\\_3\\\\\n",
       "  & <int> & <dbl> & <dbl> & <dbl>\\\\\n",
       "\\hline\n",
       "\t1 & 3 & 0 & 0 & 1\\\\\n",
       "\t2 & 3 & 0 & 0 & 1\\\\\n",
       "\t3 & 3 & 0 & 0 & 1\\\\\n",
       "\t4 & 3 & 0 & 0 & 1\\\\\n",
       "\t5 & 3 & 0 & 0 & 1\\\\\n",
       "\t6 & 3 & 0 & 0 & 1\\\\\n",
       "\\end{tabular}\n"
      ],
      "text/markdown": [
       "\n",
       "A data.frame: 6 × 4\n",
       "\n",
       "| <!--/--> | X10 &lt;int&gt; | X10_1 &lt;dbl&gt; | X10_2 &lt;dbl&gt; | X10_3 &lt;dbl&gt; |\n",
       "|---|---|---|---|---|\n",
       "| 1 | 3 | 0 | 0 | 1 |\n",
       "| 2 | 3 | 0 | 0 | 1 |\n",
       "| 3 | 3 | 0 | 0 | 1 |\n",
       "| 4 | 3 | 0 | 0 | 1 |\n",
       "| 5 | 3 | 0 | 0 | 1 |\n",
       "| 6 | 3 | 0 | 0 | 1 |\n",
       "\n"
      ],
      "text/plain": [
       "  X10 X10_1 X10_2 X10_3\n",
       "1 3   0     0     1    \n",
       "2 3   0     0     1    \n",
       "3 3   0     0     1    \n",
       "4 3   0     0     1    \n",
       "5 3   0     0     1    \n",
       "6 3   0     0     1    "
      ]
     },
     "metadata": {},
     "output_type": "display_data"
    }
   ],
   "source": [
    "data %>% count(X10)\n",
    "\n",
    "data <- data %>%\n",
    "  mutate(X10_1 = ifelse(X10 == 1, 1, 0))\n",
    "\n",
    "data <- data %>%\n",
    "  mutate(X10_2 = ifelse(X10 == 2, 1, 0))\n",
    "\n",
    "data <- data %>%\n",
    "  mutate(X10_3 = ifelse(X10 == 3, 1, 0))\n",
    "\n",
    "data %>% select(X10, X10_1, X10_2, X10_3) %>% head\n",
    "\n",
    "data %>% select(-X10) -> data\n"
   ]
  },
  {
   "cell_type": "code",
   "execution_count": 39,
   "id": "ec1ebeb3-08a6-41b4-95e1-76ca760abef9",
   "metadata": {},
   "outputs": [
    {
     "data": {
      "text/html": [
       "<table class=\"dataframe\">\n",
       "<caption>A data.frame: 4 × 2</caption>\n",
       "<thead>\n",
       "\t<tr><th scope=col>X12</th><th scope=col>n</th></tr>\n",
       "\t<tr><th scope=col>&lt;int&gt;</th><th scope=col>&lt;int&gt;</th></tr>\n",
       "</thead>\n",
       "<tbody>\n",
       "\t<tr><td>0</td><td> 10</td></tr>\n",
       "\t<tr><td>1</td><td>  7</td></tr>\n",
       "\t<tr><td>2</td><td> 11</td></tr>\n",
       "\t<tr><td>3</td><td>266</td></tr>\n",
       "</tbody>\n",
       "</table>\n"
      ],
      "text/latex": [
       "A data.frame: 4 × 2\n",
       "\\begin{tabular}{ll}\n",
       " X12 & n\\\\\n",
       " <int> & <int>\\\\\n",
       "\\hline\n",
       "\t 0 &  10\\\\\n",
       "\t 1 &   7\\\\\n",
       "\t 2 &  11\\\\\n",
       "\t 3 & 266\\\\\n",
       "\\end{tabular}\n"
      ],
      "text/markdown": [
       "\n",
       "A data.frame: 4 × 2\n",
       "\n",
       "| X12 &lt;int&gt; | n &lt;int&gt; |\n",
       "|---|---|\n",
       "| 0 |  10 |\n",
       "| 1 |   7 |\n",
       "| 2 |  11 |\n",
       "| 3 | 266 |\n",
       "\n"
      ],
      "text/plain": [
       "  X12 n  \n",
       "1 0    10\n",
       "2 1     7\n",
       "3 2    11\n",
       "4 3   266"
      ]
     },
     "metadata": {},
     "output_type": "display_data"
    },
    {
     "data": {
      "text/html": [
       "<table class=\"dataframe\">\n",
       "<caption>A data.frame: 6 × 4</caption>\n",
       "<thead>\n",
       "\t<tr><th></th><th scope=col>X12</th><th scope=col>X12_0</th><th scope=col>X12_2</th><th scope=col>X12_3</th></tr>\n",
       "\t<tr><th></th><th scope=col>&lt;int&gt;</th><th scope=col>&lt;dbl&gt;</th><th scope=col>&lt;dbl&gt;</th><th scope=col>&lt;dbl&gt;</th></tr>\n",
       "</thead>\n",
       "<tbody>\n",
       "\t<tr><th scope=row>1</th><td>3</td><td>0</td><td>0</td><td>1</td></tr>\n",
       "\t<tr><th scope=row>2</th><td>3</td><td>0</td><td>0</td><td>1</td></tr>\n",
       "\t<tr><th scope=row>3</th><td>3</td><td>0</td><td>0</td><td>1</td></tr>\n",
       "\t<tr><th scope=row>4</th><td>0</td><td>1</td><td>0</td><td>0</td></tr>\n",
       "\t<tr><th scope=row>5</th><td>3</td><td>0</td><td>0</td><td>1</td></tr>\n",
       "\t<tr><th scope=row>6</th><td>3</td><td>0</td><td>0</td><td>1</td></tr>\n",
       "</tbody>\n",
       "</table>\n"
      ],
      "text/latex": [
       "A data.frame: 6 × 4\n",
       "\\begin{tabular}{r|llll}\n",
       "  & X12 & X12\\_0 & X12\\_2 & X12\\_3\\\\\n",
       "  & <int> & <dbl> & <dbl> & <dbl>\\\\\n",
       "\\hline\n",
       "\t1 & 3 & 0 & 0 & 1\\\\\n",
       "\t2 & 3 & 0 & 0 & 1\\\\\n",
       "\t3 & 3 & 0 & 0 & 1\\\\\n",
       "\t4 & 0 & 1 & 0 & 0\\\\\n",
       "\t5 & 3 & 0 & 0 & 1\\\\\n",
       "\t6 & 3 & 0 & 0 & 1\\\\\n",
       "\\end{tabular}\n"
      ],
      "text/markdown": [
       "\n",
       "A data.frame: 6 × 4\n",
       "\n",
       "| <!--/--> | X12 &lt;int&gt; | X12_0 &lt;dbl&gt; | X12_2 &lt;dbl&gt; | X12_3 &lt;dbl&gt; |\n",
       "|---|---|---|---|---|\n",
       "| 1 | 3 | 0 | 0 | 1 |\n",
       "| 2 | 3 | 0 | 0 | 1 |\n",
       "| 3 | 3 | 0 | 0 | 1 |\n",
       "| 4 | 0 | 1 | 0 | 0 |\n",
       "| 5 | 3 | 0 | 0 | 1 |\n",
       "| 6 | 3 | 0 | 0 | 1 |\n",
       "\n"
      ],
      "text/plain": [
       "  X12 X12_0 X12_2 X12_3\n",
       "1 3   0     0     1    \n",
       "2 3   0     0     1    \n",
       "3 3   0     0     1    \n",
       "4 0   1     0     0    \n",
       "5 3   0     0     1    \n",
       "6 3   0     0     1    "
      ]
     },
     "metadata": {},
     "output_type": "display_data"
    }
   ],
   "source": [
    "data %>% count(X12)\n",
    "\n",
    "data <- data %>%\n",
    "  mutate(X12_0 = ifelse(X12 == 0, 1, 0))\n",
    "\n",
    "data <- data %>%\n",
    "  mutate(X12_2 = ifelse(X12 == 2, 1, 0))\n",
    "\n",
    "data <- data %>%\n",
    "  mutate(X12_3 = ifelse(X12 == 3, 1, 0))\n",
    "\n",
    "data %>% select(X12, X12_0, X12_2, X12_3) %>% head\n",
    "\n",
    "data %>% select(-X12) -> data"
   ]
  },
  {
   "cell_type": "code",
   "execution_count": 40,
   "id": "87a5c8c6-f9c0-4b88-b596-610c58fdb01d",
   "metadata": {},
   "outputs": [
    {
     "data": {
      "text/html": [
       "<style>\n",
       ".list-inline {list-style: none; margin:0; padding: 0}\n",
       ".list-inline>li {display: inline-block}\n",
       ".list-inline>li:not(:last-child)::after {content: \"\\00b7\"; padding: 0 .5ex}\n",
       "</style>\n",
       "<ol class=list-inline><li>'X0'</li><li>'X1'</li><li>'X3'</li><li>'X4'</li><li>'X7'</li><li>'X9'</li><li>'X11'</li><li>'target'</li><li>'X2_0'</li><li>'X2_1'</li><li>'X2_2'</li><li>'X5_0'</li><li>'X5_1'</li><li>'X6_1'</li><li>'X6_2'</li><li>'X8_1'</li><li>'X8_0'</li><li>'X10_1'</li><li>'X10_2'</li><li>'X10_3'</li><li>'X12_0'</li><li>'X12_2'</li><li>'X12_3'</li></ol>\n"
      ],
      "text/latex": [
       "\\begin{enumerate*}\n",
       "\\item 'X0'\n",
       "\\item 'X1'\n",
       "\\item 'X3'\n",
       "\\item 'X4'\n",
       "\\item 'X7'\n",
       "\\item 'X9'\n",
       "\\item 'X11'\n",
       "\\item 'target'\n",
       "\\item 'X2\\_0'\n",
       "\\item 'X2\\_1'\n",
       "\\item 'X2\\_2'\n",
       "\\item 'X5\\_0'\n",
       "\\item 'X5\\_1'\n",
       "\\item 'X6\\_1'\n",
       "\\item 'X6\\_2'\n",
       "\\item 'X8\\_1'\n",
       "\\item 'X8\\_0'\n",
       "\\item 'X10\\_1'\n",
       "\\item 'X10\\_2'\n",
       "\\item 'X10\\_3'\n",
       "\\item 'X12\\_0'\n",
       "\\item 'X12\\_2'\n",
       "\\item 'X12\\_3'\n",
       "\\end{enumerate*}\n"
      ],
      "text/markdown": [
       "1. 'X0'\n",
       "2. 'X1'\n",
       "3. 'X3'\n",
       "4. 'X4'\n",
       "5. 'X7'\n",
       "6. 'X9'\n",
       "7. 'X11'\n",
       "8. 'target'\n",
       "9. 'X2_0'\n",
       "10. 'X2_1'\n",
       "11. 'X2_2'\n",
       "12. 'X5_0'\n",
       "13. 'X5_1'\n",
       "14. 'X6_1'\n",
       "15. 'X6_2'\n",
       "16. 'X8_1'\n",
       "17. 'X8_0'\n",
       "18. 'X10_1'\n",
       "19. 'X10_2'\n",
       "20. 'X10_3'\n",
       "21. 'X12_0'\n",
       "22. 'X12_2'\n",
       "23. 'X12_3'\n",
       "\n",
       "\n"
      ],
      "text/plain": [
       " [1] \"X0\"     \"X1\"     \"X3\"     \"X4\"     \"X7\"     \"X9\"     \"X11\"    \"target\"\n",
       " [9] \"X2_0\"   \"X2_1\"   \"X2_2\"   \"X5_0\"   \"X5_1\"   \"X6_1\"   \"X6_2\"   \"X8_1\"  \n",
       "[17] \"X8_0\"   \"X10_1\"  \"X10_2\"  \"X10_3\"  \"X12_0\"  \"X12_2\"  \"X12_3\" "
      ]
     },
     "metadata": {},
     "output_type": "display_data"
    },
    {
     "data": {
      "text/html": [
       "<table class=\"dataframe\">\n",
       "<caption>A data.frame: 6 × 23</caption>\n",
       "<thead>\n",
       "\t<tr><th></th><th scope=col>X0</th><th scope=col>X1</th><th scope=col>X3</th><th scope=col>X4</th><th scope=col>X7</th><th scope=col>X9</th><th scope=col>X11</th><th scope=col>X2_0</th><th scope=col>X2_1</th><th scope=col>X2_2</th><th scope=col>⋯</th><th scope=col>X6_2</th><th scope=col>X8_1</th><th scope=col>X8_0</th><th scope=col>X10_1</th><th scope=col>X10_2</th><th scope=col>X10_3</th><th scope=col>X12_0</th><th scope=col>X12_2</th><th scope=col>X12_3</th><th scope=col>target</th></tr>\n",
       "\t<tr><th></th><th scope=col>&lt;dbl&gt;</th><th scope=col>&lt;int&gt;</th><th scope=col>&lt;dbl&gt;</th><th scope=col>&lt;dbl&gt;</th><th scope=col>&lt;dbl&gt;</th><th scope=col>&lt;dbl&gt;</th><th scope=col>&lt;dbl&gt;</th><th scope=col>&lt;dbl&gt;</th><th scope=col>&lt;dbl&gt;</th><th scope=col>&lt;dbl&gt;</th><th scope=col>⋯</th><th scope=col>&lt;dbl&gt;</th><th scope=col>&lt;dbl&gt;</th><th scope=col>&lt;dbl&gt;</th><th scope=col>&lt;dbl&gt;</th><th scope=col>&lt;dbl&gt;</th><th scope=col>&lt;dbl&gt;</th><th scope=col>&lt;dbl&gt;</th><th scope=col>&lt;dbl&gt;</th><th scope=col>&lt;dbl&gt;</th><th scope=col>&lt;int&gt;</th></tr>\n",
       "</thead>\n",
       "<tbody>\n",
       "\t<tr><th scope=row>1</th><td>28</td><td>1</td><td>130</td><td>132</td><td>185</td><td>0</td><td>NA</td><td>0</td><td>1</td><td>0</td><td>⋯</td><td>0</td><td>0</td><td>1</td><td>0</td><td>0</td><td>1</td><td>0</td><td>0</td><td>1</td><td>0</td></tr>\n",
       "\t<tr><th scope=row>2</th><td>29</td><td>1</td><td>120</td><td>243</td><td>160</td><td>0</td><td>NA</td><td>0</td><td>1</td><td>0</td><td>⋯</td><td>0</td><td>0</td><td>1</td><td>0</td><td>0</td><td>1</td><td>0</td><td>0</td><td>1</td><td>0</td></tr>\n",
       "\t<tr><th scope=row>3</th><td>29</td><td>1</td><td>140</td><td> NA</td><td>170</td><td>0</td><td>NA</td><td>0</td><td>1</td><td>0</td><td>⋯</td><td>0</td><td>0</td><td>1</td><td>0</td><td>0</td><td>1</td><td>0</td><td>0</td><td>1</td><td>0</td></tr>\n",
       "\t<tr><th scope=row>4</th><td>30</td><td>0</td><td>170</td><td>237</td><td>170</td><td>0</td><td>NA</td><td>0</td><td>0</td><td>0</td><td>⋯</td><td>1</td><td>0</td><td>1</td><td>0</td><td>0</td><td>1</td><td>1</td><td>0</td><td>0</td><td>0</td></tr>\n",
       "\t<tr><th scope=row>5</th><td>31</td><td>0</td><td>100</td><td>219</td><td>150</td><td>0</td><td>NA</td><td>0</td><td>1</td><td>0</td><td>⋯</td><td>1</td><td>0</td><td>1</td><td>0</td><td>0</td><td>1</td><td>0</td><td>0</td><td>1</td><td>0</td></tr>\n",
       "\t<tr><th scope=row>6</th><td>32</td><td>0</td><td>105</td><td>198</td><td>165</td><td>0</td><td>NA</td><td>0</td><td>1</td><td>0</td><td>⋯</td><td>0</td><td>0</td><td>1</td><td>0</td><td>0</td><td>1</td><td>0</td><td>0</td><td>1</td><td>0</td></tr>\n",
       "</tbody>\n",
       "</table>\n"
      ],
      "text/latex": [
       "A data.frame: 6 × 23\n",
       "\\begin{tabular}{r|lllllllllllllllllllll}\n",
       "  & X0 & X1 & X3 & X4 & X7 & X9 & X11 & X2\\_0 & X2\\_1 & X2\\_2 & ⋯ & X6\\_2 & X8\\_1 & X8\\_0 & X10\\_1 & X10\\_2 & X10\\_3 & X12\\_0 & X12\\_2 & X12\\_3 & target\\\\\n",
       "  & <dbl> & <int> & <dbl> & <dbl> & <dbl> & <dbl> & <dbl> & <dbl> & <dbl> & <dbl> & ⋯ & <dbl> & <dbl> & <dbl> & <dbl> & <dbl> & <dbl> & <dbl> & <dbl> & <dbl> & <int>\\\\\n",
       "\\hline\n",
       "\t1 & 28 & 1 & 130 & 132 & 185 & 0 & NA & 0 & 1 & 0 & ⋯ & 0 & 0 & 1 & 0 & 0 & 1 & 0 & 0 & 1 & 0\\\\\n",
       "\t2 & 29 & 1 & 120 & 243 & 160 & 0 & NA & 0 & 1 & 0 & ⋯ & 0 & 0 & 1 & 0 & 0 & 1 & 0 & 0 & 1 & 0\\\\\n",
       "\t3 & 29 & 1 & 140 &  NA & 170 & 0 & NA & 0 & 1 & 0 & ⋯ & 0 & 0 & 1 & 0 & 0 & 1 & 0 & 0 & 1 & 0\\\\\n",
       "\t4 & 30 & 0 & 170 & 237 & 170 & 0 & NA & 0 & 0 & 0 & ⋯ & 1 & 0 & 1 & 0 & 0 & 1 & 1 & 0 & 0 & 0\\\\\n",
       "\t5 & 31 & 0 & 100 & 219 & 150 & 0 & NA & 0 & 1 & 0 & ⋯ & 1 & 0 & 1 & 0 & 0 & 1 & 0 & 0 & 1 & 0\\\\\n",
       "\t6 & 32 & 0 & 105 & 198 & 165 & 0 & NA & 0 & 1 & 0 & ⋯ & 0 & 0 & 1 & 0 & 0 & 1 & 0 & 0 & 1 & 0\\\\\n",
       "\\end{tabular}\n"
      ],
      "text/markdown": [
       "\n",
       "A data.frame: 6 × 23\n",
       "\n",
       "| <!--/--> | X0 &lt;dbl&gt; | X1 &lt;int&gt; | X3 &lt;dbl&gt; | X4 &lt;dbl&gt; | X7 &lt;dbl&gt; | X9 &lt;dbl&gt; | X11 &lt;dbl&gt; | X2_0 &lt;dbl&gt; | X2_1 &lt;dbl&gt; | X2_2 &lt;dbl&gt; | ⋯ ⋯ | X6_2 &lt;dbl&gt; | X8_1 &lt;dbl&gt; | X8_0 &lt;dbl&gt; | X10_1 &lt;dbl&gt; | X10_2 &lt;dbl&gt; | X10_3 &lt;dbl&gt; | X12_0 &lt;dbl&gt; | X12_2 &lt;dbl&gt; | X12_3 &lt;dbl&gt; | target &lt;int&gt; |\n",
       "|---|---|---|---|---|---|---|---|---|---|---|---|---|---|---|---|---|---|---|---|---|---|\n",
       "| 1 | 28 | 1 | 130 | 132 | 185 | 0 | NA | 0 | 1 | 0 | ⋯ | 0 | 0 | 1 | 0 | 0 | 1 | 0 | 0 | 1 | 0 |\n",
       "| 2 | 29 | 1 | 120 | 243 | 160 | 0 | NA | 0 | 1 | 0 | ⋯ | 0 | 0 | 1 | 0 | 0 | 1 | 0 | 0 | 1 | 0 |\n",
       "| 3 | 29 | 1 | 140 |  NA | 170 | 0 | NA | 0 | 1 | 0 | ⋯ | 0 | 0 | 1 | 0 | 0 | 1 | 0 | 0 | 1 | 0 |\n",
       "| 4 | 30 | 0 | 170 | 237 | 170 | 0 | NA | 0 | 0 | 0 | ⋯ | 1 | 0 | 1 | 0 | 0 | 1 | 1 | 0 | 0 | 0 |\n",
       "| 5 | 31 | 0 | 100 | 219 | 150 | 0 | NA | 0 | 1 | 0 | ⋯ | 1 | 0 | 1 | 0 | 0 | 1 | 0 | 0 | 1 | 0 |\n",
       "| 6 | 32 | 0 | 105 | 198 | 165 | 0 | NA | 0 | 1 | 0 | ⋯ | 0 | 0 | 1 | 0 | 0 | 1 | 0 | 0 | 1 | 0 |\n",
       "\n"
      ],
      "text/plain": [
       "  X0 X1 X3  X4  X7  X9 X11 X2_0 X2_1 X2_2 ⋯ X6_2 X8_1 X8_0 X10_1 X10_2 X10_3\n",
       "1 28 1  130 132 185 0  NA  0    1    0    ⋯ 0    0    1    0     0     1    \n",
       "2 29 1  120 243 160 0  NA  0    1    0    ⋯ 0    0    1    0     0     1    \n",
       "3 29 1  140  NA 170 0  NA  0    1    0    ⋯ 0    0    1    0     0     1    \n",
       "4 30 0  170 237 170 0  NA  0    0    0    ⋯ 1    0    1    0     0     1    \n",
       "5 31 0  100 219 150 0  NA  0    1    0    ⋯ 1    0    1    0     0     1    \n",
       "6 32 0  105 198 165 0  NA  0    1    0    ⋯ 0    0    1    0     0     1    \n",
       "  X12_0 X12_2 X12_3 target\n",
       "1 0     0     1     0     \n",
       "2 0     0     1     0     \n",
       "3 0     0     1     0     \n",
       "4 1     0     0     0     \n",
       "5 0     0     1     0     \n",
       "6 0     0     1     0     "
      ]
     },
     "metadata": {},
     "output_type": "display_data"
    }
   ],
   "source": [
    "data %>% colnames\n",
    "\n",
    "data %>% select(target) -> target\n",
    "data %>% select(-target) -> data\n",
    "\n",
    "data %>% cbind(target) -> data\n",
    "\n",
    "data %>% head"
   ]
  },
  {
   "cell_type": "code",
   "execution_count": 41,
   "id": "ea0c0e99-caac-4095-9389-f4ac41f64390",
   "metadata": {},
   "outputs": [
    {
     "data": {
      "text/html": [
       "<table class=\"dataframe\">\n",
       "<caption>A data.frame: 2 × 2</caption>\n",
       "<thead>\n",
       "\t<tr><th scope=col>target</th><th scope=col>n</th></tr>\n",
       "\t<tr><th scope=col>&lt;int&gt;</th><th scope=col>&lt;int&gt;</th></tr>\n",
       "</thead>\n",
       "<tbody>\n",
       "\t<tr><td>0</td><td>188</td></tr>\n",
       "\t<tr><td>1</td><td>106</td></tr>\n",
       "</tbody>\n",
       "</table>\n"
      ],
      "text/latex": [
       "A data.frame: 2 × 2\n",
       "\\begin{tabular}{ll}\n",
       " target & n\\\\\n",
       " <int> & <int>\\\\\n",
       "\\hline\n",
       "\t 0 & 188\\\\\n",
       "\t 1 & 106\\\\\n",
       "\\end{tabular}\n"
      ],
      "text/markdown": [
       "\n",
       "A data.frame: 2 × 2\n",
       "\n",
       "| target &lt;int&gt; | n &lt;int&gt; |\n",
       "|---|---|\n",
       "| 0 | 188 |\n",
       "| 1 | 106 |\n",
       "\n"
      ],
      "text/plain": [
       "  target n  \n",
       "1 0      188\n",
       "2 1      106"
      ]
     },
     "metadata": {},
     "output_type": "display_data"
    }
   ],
   "source": [
    "data %>% count(target)"
   ]
  },
  {
   "cell_type": "code",
   "execution_count": 42,
   "id": "b27c24e2-0205-4687-84da-91dac8cc8c93",
   "metadata": {},
   "outputs": [],
   "source": [
    "set.seed(123)  # for reproducibility\n",
    "\n",
    "data_0 <- data %>% filter(target == 0)\n",
    "data_1 <- data %>% filter(target == 1)\n",
    "\n",
    "n <- nrow(data_0)\n",
    "train_size_0 <- floor(0.7 * n)\n",
    "\n",
    "# Shuffle the rows first\n",
    "data_0 <- data_0 %>% slice_sample(prop = 1)\n",
    "\n",
    "# Split into training and testing\n",
    "train_df_0 <- data_0 %>% slice(1:train_size_0)\n",
    "test_df_0  <- data_0 %>% slice((train_size_0 + 1):n)"
   ]
  },
  {
   "cell_type": "code",
   "execution_count": 43,
   "id": "a649e843-a8b0-4992-957d-c7dc928b4ef1",
   "metadata": {},
   "outputs": [
    {
     "data": {
      "text/html": [
       "<style>\n",
       ".list-inline {list-style: none; margin:0; padding: 0}\n",
       ".list-inline>li {display: inline-block}\n",
       ".list-inline>li:not(:last-child)::after {content: \"\\00b7\"; padding: 0 .5ex}\n",
       "</style>\n",
       "<ol class=list-inline><li>205</li><li>23</li></ol>\n"
      ],
      "text/latex": [
       "\\begin{enumerate*}\n",
       "\\item 205\n",
       "\\item 23\n",
       "\\end{enumerate*}\n"
      ],
      "text/markdown": [
       "1. 205\n",
       "2. 23\n",
       "\n",
       "\n"
      ],
      "text/plain": [
       "[1] 205  23"
      ]
     },
     "metadata": {},
     "output_type": "display_data"
    },
    {
     "data": {
      "text/html": [
       "<table class=\"dataframe\">\n",
       "<caption>A data.frame: 2 × 2</caption>\n",
       "<thead>\n",
       "\t<tr><th scope=col>target</th><th scope=col>n</th></tr>\n",
       "\t<tr><th scope=col>&lt;int&gt;</th><th scope=col>&lt;int&gt;</th></tr>\n",
       "</thead>\n",
       "<tbody>\n",
       "\t<tr><td>0</td><td>131</td></tr>\n",
       "\t<tr><td>1</td><td> 74</td></tr>\n",
       "</tbody>\n",
       "</table>\n"
      ],
      "text/latex": [
       "A data.frame: 2 × 2\n",
       "\\begin{tabular}{ll}\n",
       " target & n\\\\\n",
       " <int> & <int>\\\\\n",
       "\\hline\n",
       "\t 0 & 131\\\\\n",
       "\t 1 &  74\\\\\n",
       "\\end{tabular}\n"
      ],
      "text/markdown": [
       "\n",
       "A data.frame: 2 × 2\n",
       "\n",
       "| target &lt;int&gt; | n &lt;int&gt; |\n",
       "|---|---|\n",
       "| 0 | 131 |\n",
       "| 1 |  74 |\n",
       "\n"
      ],
      "text/plain": [
       "  target n  \n",
       "1 0      131\n",
       "2 1       74"
      ]
     },
     "metadata": {},
     "output_type": "display_data"
    }
   ],
   "source": [
    "n <- nrow(data_1)\n",
    "train_size_1 <- floor(0.7 * n)\n",
    "\n",
    "# Shuffle the rows first\n",
    "data_1 <- data_1 %>% slice_sample(prop = 1)\n",
    "\n",
    "# Split into training and testing\n",
    "train_df_1 <- data_1 %>% slice(1:train_size_1)\n",
    "test_df_1  <- data_1 %>% slice((train_size_1 + 1):n)\n",
    "\n",
    "train <- train_df_1 %>% rbind(train_df_0)\n",
    "test <- test_df_1 %>% rbind(test_df_0)\n",
    "\n",
    "train %>% dim\n",
    "train %>% count(target)"
   ]
  },
  {
   "cell_type": "code",
   "execution_count": 44,
   "id": "b5bc1748-bf3a-4a44-a6ae-d028614b4801",
   "metadata": {},
   "outputs": [
    {
     "data": {
      "text/html": [
       "<style>\n",
       ".list-inline {list-style: none; margin:0; padding: 0}\n",
       ".list-inline>li {display: inline-block}\n",
       ".list-inline>li:not(:last-child)::after {content: \"\\00b7\"; padding: 0 .5ex}\n",
       "</style>\n",
       "<ol class=list-inline><li>89</li><li>23</li></ol>\n"
      ],
      "text/latex": [
       "\\begin{enumerate*}\n",
       "\\item 89\n",
       "\\item 23\n",
       "\\end{enumerate*}\n"
      ],
      "text/markdown": [
       "1. 89\n",
       "2. 23\n",
       "\n",
       "\n"
      ],
      "text/plain": [
       "[1] 89 23"
      ]
     },
     "metadata": {},
     "output_type": "display_data"
    },
    {
     "data": {
      "text/html": [
       "<table class=\"dataframe\">\n",
       "<caption>A data.frame: 2 × 2</caption>\n",
       "<thead>\n",
       "\t<tr><th scope=col>target</th><th scope=col>n</th></tr>\n",
       "\t<tr><th scope=col>&lt;int&gt;</th><th scope=col>&lt;int&gt;</th></tr>\n",
       "</thead>\n",
       "<tbody>\n",
       "\t<tr><td>0</td><td>57</td></tr>\n",
       "\t<tr><td>1</td><td>32</td></tr>\n",
       "</tbody>\n",
       "</table>\n"
      ],
      "text/latex": [
       "A data.frame: 2 × 2\n",
       "\\begin{tabular}{ll}\n",
       " target & n\\\\\n",
       " <int> & <int>\\\\\n",
       "\\hline\n",
       "\t 0 & 57\\\\\n",
       "\t 1 & 32\\\\\n",
       "\\end{tabular}\n"
      ],
      "text/markdown": [
       "\n",
       "A data.frame: 2 × 2\n",
       "\n",
       "| target &lt;int&gt; | n &lt;int&gt; |\n",
       "|---|---|\n",
       "| 0 | 57 |\n",
       "| 1 | 32 |\n",
       "\n"
      ],
      "text/plain": [
       "  target n \n",
       "1 0      57\n",
       "2 1      32"
      ]
     },
     "metadata": {},
     "output_type": "display_data"
    }
   ],
   "source": [
    "test %>% dim\n",
    "test %>% count(target)"
   ]
  },
  {
   "cell_type": "code",
   "execution_count": 106,
   "id": "93fde092-f5ca-460e-ae2a-b61a6b7353e0",
   "metadata": {},
   "outputs": [],
   "source": [
    "dir.create(\"heart\")\n",
    "setwd(\"heart\")\n",
    "\n",
    "train %>% write_csv('heart_train.csv') \n",
    "test %>% write_csv('heart_test.csv') "
   ]
  },
  {
   "cell_type": "code",
   "execution_count": 45,
   "id": "aca6ae93-45ab-404e-a97e-993db1ff793f",
   "metadata": {},
   "outputs": [
    {
     "data": {
      "text/html": [
       "0.359550561797753"
      ],
      "text/latex": [
       "0.359550561797753"
      ],
      "text/markdown": [
       "0.359550561797753"
      ],
      "text/plain": [
       "[1] 0.3595506"
      ]
     },
     "metadata": {},
     "output_type": "display_data"
    }
   ],
   "source": [
    "32/89"
   ]
  },
  {
   "cell_type": "code",
   "execution_count": null,
   "id": "25f0284b-5f66-4cd4-9306-b94e953c71d9",
   "metadata": {},
   "outputs": [],
   "source": []
  }
 ],
 "metadata": {
  "kernelspec": {
   "display_name": "R",
   "language": "R",
   "name": "ir"
  },
  "language_info": {
   "codemirror_mode": "r",
   "file_extension": ".r",
   "mimetype": "text/x-r-source",
   "name": "R",
   "pygments_lexer": "r",
   "version": "4.3.3"
  }
 },
 "nbformat": 4,
 "nbformat_minor": 5
}
